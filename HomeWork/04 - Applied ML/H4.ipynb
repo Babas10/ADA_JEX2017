{
 "cells": [
  {
   "cell_type": "markdown",
   "metadata": {},
   "source": [
    "## Question 1: Propensity score matching"
   ]
  },
  {
   "cell_type": "markdown",
   "metadata": {},
   "source": [
    "#### Dataset description\n",
    "\n",
    "- `treat`: 1 if the subject participated in the job training program, 0 otherwise\n",
    "- `age`: the subject's age\n",
    "- `educ`: years of education\n",
    "- `race`: categorical variable with three possible values: Black, Hispanic, or White\n",
    "- `married`: 1 if the subject was married at the time of the training program, 0 otherwise\n",
    "- `nodegree`: 1 if the subject has earned no school degree, 0 otherwise\n",
    "- `re74`: real earnings in 1974 (pre-treatment)\n",
    "- `re75`: real earnings in 1975 (pre-treatment)\n",
    "- `re78`: real earnings in 1978 (outcome)"
   ]
  },
  {
   "cell_type": "code",
   "execution_count": 48,
   "metadata": {},
   "outputs": [],
   "source": [
    "import os\n",
    "import pandas as pd\n",
    "import json\n",
    "import numpy as np\n",
    "import matplotlib.pyplot as plt\n",
    "from ipywidgets import widgets,interact\n",
    "from IPython.display import display"
   ]
  },
  {
   "cell_type": "markdown",
   "metadata": {},
   "source": [
    "#### 1. A naive analysis\n",
    "\n",
    "Compare the distribution of the outcome variable (`re78`) between the two groups, using plots and numbers.\n",
    "To summarize and compare the distributions, you may use the techniques we discussed in lectures 4 (\"Read the stats carefully\") and 6 (\"Data visualization\").\n",
    "\n",
    "What might a naive \"researcher\" conclude from this superficial analysis?"
   ]
  },
  {
   "cell_type": "code",
   "execution_count": 49,
   "metadata": {},
   "outputs": [],
   "source": [
    "path = './lalonde.csv'\n",
    "dataset = pd.read_csv(path)"
   ]
  },
  {
   "cell_type": "code",
   "execution_count": 65,
   "metadata": {},
   "outputs": [
    {
     "data": {
      "text/html": [
       "<div>\n",
       "<style>\n",
       "    .dataframe thead tr:only-child th {\n",
       "        text-align: right;\n",
       "    }\n",
       "\n",
       "    .dataframe thead th {\n",
       "        text-align: left;\n",
       "    }\n",
       "\n",
       "    .dataframe tbody tr th {\n",
       "        vertical-align: top;\n",
       "    }\n",
       "</style>\n",
       "<table border=\"1\" class=\"dataframe\">\n",
       "  <thead>\n",
       "    <tr style=\"text-align: right;\">\n",
       "      <th></th>\n",
       "      <th>id</th>\n",
       "      <th>treat</th>\n",
       "      <th>age</th>\n",
       "      <th>educ</th>\n",
       "      <th>black</th>\n",
       "      <th>hispan</th>\n",
       "      <th>married</th>\n",
       "      <th>nodegree</th>\n",
       "      <th>re74</th>\n",
       "      <th>re75</th>\n",
       "      <th>re78</th>\n",
       "    </tr>\n",
       "  </thead>\n",
       "  <tbody>\n",
       "    <tr>\n",
       "      <th>0</th>\n",
       "      <td>NSW1</td>\n",
       "      <td>1</td>\n",
       "      <td>37</td>\n",
       "      <td>11</td>\n",
       "      <td>1</td>\n",
       "      <td>0</td>\n",
       "      <td>1</td>\n",
       "      <td>1</td>\n",
       "      <td>0.0</td>\n",
       "      <td>0.0</td>\n",
       "      <td>9930.0460</td>\n",
       "    </tr>\n",
       "    <tr>\n",
       "      <th>1</th>\n",
       "      <td>NSW2</td>\n",
       "      <td>1</td>\n",
       "      <td>22</td>\n",
       "      <td>9</td>\n",
       "      <td>0</td>\n",
       "      <td>1</td>\n",
       "      <td>0</td>\n",
       "      <td>1</td>\n",
       "      <td>0.0</td>\n",
       "      <td>0.0</td>\n",
       "      <td>3595.8940</td>\n",
       "    </tr>\n",
       "    <tr>\n",
       "      <th>2</th>\n",
       "      <td>NSW3</td>\n",
       "      <td>1</td>\n",
       "      <td>30</td>\n",
       "      <td>12</td>\n",
       "      <td>1</td>\n",
       "      <td>0</td>\n",
       "      <td>0</td>\n",
       "      <td>0</td>\n",
       "      <td>0.0</td>\n",
       "      <td>0.0</td>\n",
       "      <td>24909.4500</td>\n",
       "    </tr>\n",
       "    <tr>\n",
       "      <th>3</th>\n",
       "      <td>NSW4</td>\n",
       "      <td>1</td>\n",
       "      <td>27</td>\n",
       "      <td>11</td>\n",
       "      <td>1</td>\n",
       "      <td>0</td>\n",
       "      <td>0</td>\n",
       "      <td>1</td>\n",
       "      <td>0.0</td>\n",
       "      <td>0.0</td>\n",
       "      <td>7506.1460</td>\n",
       "    </tr>\n",
       "    <tr>\n",
       "      <th>4</th>\n",
       "      <td>NSW5</td>\n",
       "      <td>1</td>\n",
       "      <td>33</td>\n",
       "      <td>8</td>\n",
       "      <td>1</td>\n",
       "      <td>0</td>\n",
       "      <td>0</td>\n",
       "      <td>1</td>\n",
       "      <td>0.0</td>\n",
       "      <td>0.0</td>\n",
       "      <td>289.7899</td>\n",
       "    </tr>\n",
       "    <tr>\n",
       "      <th>5</th>\n",
       "      <td>NSW6</td>\n",
       "      <td>1</td>\n",
       "      <td>22</td>\n",
       "      <td>9</td>\n",
       "      <td>1</td>\n",
       "      <td>0</td>\n",
       "      <td>0</td>\n",
       "      <td>1</td>\n",
       "      <td>0.0</td>\n",
       "      <td>0.0</td>\n",
       "      <td>4056.4940</td>\n",
       "    </tr>\n",
       "    <tr>\n",
       "      <th>6</th>\n",
       "      <td>NSW7</td>\n",
       "      <td>1</td>\n",
       "      <td>23</td>\n",
       "      <td>12</td>\n",
       "      <td>1</td>\n",
       "      <td>0</td>\n",
       "      <td>0</td>\n",
       "      <td>0</td>\n",
       "      <td>0.0</td>\n",
       "      <td>0.0</td>\n",
       "      <td>0.0000</td>\n",
       "    </tr>\n",
       "  </tbody>\n",
       "</table>\n",
       "</div>"
      ],
      "text/plain": [
       "     id  treat  age  educ  black  hispan  married  nodegree  re74  re75  \\\n",
       "0  NSW1      1   37    11      1       0        1         1   0.0   0.0   \n",
       "1  NSW2      1   22     9      0       1        0         1   0.0   0.0   \n",
       "2  NSW3      1   30    12      1       0        0         0   0.0   0.0   \n",
       "3  NSW4      1   27    11      1       0        0         1   0.0   0.0   \n",
       "4  NSW5      1   33     8      1       0        0         1   0.0   0.0   \n",
       "5  NSW6      1   22     9      1       0        0         1   0.0   0.0   \n",
       "6  NSW7      1   23    12      1       0        0         0   0.0   0.0   \n",
       "\n",
       "         re78  \n",
       "0   9930.0460  \n",
       "1   3595.8940  \n",
       "2  24909.4500  \n",
       "3   7506.1460  \n",
       "4    289.7899  \n",
       "5   4056.4940  \n",
       "6      0.0000  "
      ]
     },
     "metadata": {},
     "output_type": "display_data"
    }
   ],
   "source": [
    "display(dataset.head(7))"
   ]
  },
  {
   "cell_type": "code",
   "execution_count": 51,
   "metadata": {},
   "outputs": [],
   "source": [
    "copyDS = dataset.copy()\n",
    "''' \n",
    "Here we want to see the distribution of the subject participated in the job training program and the ones that didn't.\n",
    "We will do two box plot an analyse them.\n",
    "'''\n",
    "\n",
    "NSW = dataset.loc[copyDS['treat'] == 1]['re78'] # participated in the job training program\n",
    "PSID = dataset.loc[copyDS['treat'] == 0]['re78'] # Didn't participated in the job training program"
   ]
  },
  {
   "cell_type": "code",
   "execution_count": 52,
   "metadata": {},
   "outputs": [
    {
     "name": "stdout",
     "output_type": "stream",
     "text": [
      "Int64Index([189, 193, 208, 211, 214, 230, 255, 259, 261, 268, 271, 272, 273,\n",
      "            281, 282, 293, 297, 298, 312, 321, 327, 328, 336, 338, 340, 351,\n",
      "            359, 360, 373, 379, 381, 384, 385, 386, 398, 400, 401, 407, 408,\n",
      "            412, 420, 422, 423, 426, 428, 429, 430, 433, 440, 442, 456, 459,\n",
      "            461, 467, 472, 475, 483, 489, 495, 496, 502, 504, 509, 519, 521,\n",
      "            524, 527, 530, 533, 539, 540, 544, 546, 547, 548, 550, 552, 553,\n",
      "            557, 558, 566, 567, 571, 574, 576, 579, 586, 588, 589, 592, 596,\n",
      "            598, 599, 600, 603, 605, 608, 611],\n",
      "           dtype='int64')\n",
      "There are 45 zeros in NSW and 98 in PSID\n",
      "[  4   8  23  26  29  45  70  74  76  83  86  87  88  96  97 108 112 113\n",
      " 127 136 142 143 151 153 155 166 174 175 188 194 196 199 200 201 213 215\n",
      " 216 222 223 227 235 237 238 241 243 244 245 248 255 257 271 274 276 282\n",
      " 287 290 298 304 310 311 317 319 324 334 336 339 342 345 348 354 355 359\n",
      " 361 362 363 365 367 368 372 373 381 382 386 389 391 394 401 403 404 407\n",
      " 411 413 414 415 418 420 423 426]\n"
     ]
    }
   ],
   "source": [
    "#Quantifing the amount of 0 in the each group\n",
    "NSWZeros = np.where(NSW == 0.0)[0]\n",
    "PSIDZeros = np.where(PSID == 0.0)[0]\n",
    "print(PSID[PSID == 0].index)\n",
    "print('There are ' + str(len(NSWZeros)) + ' zeros in NSW and ' + str(len(PSIDZeros)) + ' in PSID')\n",
    "print(PSIDZeros)"
   ]
  },
  {
   "cell_type": "code",
   "execution_count": 53,
   "metadata": {},
   "outputs": [
    {
     "data": {
      "image/png": "[encoded data removed]",
      "text/plain": [
       "<matplotlib.figure.Figure at 0x10b6a1b38>"
      ]
     },
     "metadata": {},
     "output_type": "display_data"
    }
   ],
   "source": [
    "plt.figure(figsize=(8, 6)) \n",
    "\n",
    "plt.subplot(1, 2, 1)\n",
    "histNSW = plt.hist(NSW.tolist())\n",
    "plt.title('NSW Hist',fontsize=16)\n",
    "plt.ylabel('Real earnings in 1978 ',fontsize=12)\n",
    "plt.xlabel('NSW',fontsize=12)\n",
    "\n",
    "plt.subplot(1, 2, 2)\n",
    "histPSID = plt.hist(PSID.tolist())\n",
    "plt.title('PSID Hist',fontsize=16)\n",
    "plt.xlabel('PSID',fontsize=12)\n",
    "\n",
    "\n",
    "plt.show()"
   ]
  },
  {
   "cell_type": "code",
   "execution_count": 54,
   "metadata": {},
   "outputs": [],
   "source": [
    "plt.subplot?"
   ]
  },
  {
   "cell_type": "code",
   "execution_count": 55,
   "metadata": {},
   "outputs": [
    {
     "data": {
      "image/png": "[encoded data removed]",
      "text/plain": [
       "<matplotlib.figure.Figure at 0x10b6a1550>"
      ]
     },
     "metadata": {},
     "output_type": "display_data"
    }
   ],
   "source": [
    "# multiple box plots on one figure\n",
    "plt.figure(figsize=(10, 6)) \n",
    "plt.subplot(131)\n",
    "plt.boxplot(NSW.tolist())\n",
    "plt.title('NSW Boxplot')\n",
    "plt.ylabel('real earnings in 1978 ')\n",
    "plt.xlabel('NSW')\n",
    "\n",
    "\n",
    "plt.subplot(132)\n",
    "plt.boxplot(NSW.tolist(),0,'')\n",
    "plt.title('NSW Boxplot Without Outliers')\n",
    "plt.ylabel('real earnings in 1978 ')\n",
    "plt.xlabel('NSW')\n",
    "\n",
    "\n",
    "plt.subplot(133)\n",
    "plt.boxplot(PSID.tolist())\n",
    "plt.title('PSID Boxplot')\n",
    "plt.ylabel('real earnings in 1978 ')\n",
    "plt.xlabel('PSID')\n",
    "\n",
    "\n",
    "plt.tight_layout()\n",
    "plt.show()"
   ]
  },
  {
   "cell_type": "markdown",
   "metadata": {},
   "source": [
    "At first sight, we could say that both histograms and  box plot are very similar. The only difference is that the NSW data have some outliers. However, it's highly possible that those outliers play an important role. As seen in the lecture, some distributions are all about the “outliers”.\n",
    "\n",
    "As we are interested in the outcome we will only keep subject with an income in 1978, which means that we will skip the people that didn't have an outcome for the resting of the homework."
   ]
  },
  {
   "cell_type": "code",
   "execution_count": 56,
   "metadata": {},
   "outputs": [
    {
     "data": {
      "image/png": "[encoded data removed]",
      "text/plain": [
       "<matplotlib.figure.Figure at 0x10b966c18>"
      ]
     },
     "metadata": {},
     "output_type": "display_data"
    }
   ],
   "source": [
    "NSWOutcome = NSW.drop(NSWZeros)\n",
    "PSIDOutcome = PSID.drop(PSID[PSID == 0].index)\n",
    "\n",
    "\n",
    "# multiple box plots on one figure\n",
    "plt.figure(figsize=(10, 6)) \n",
    "plt.subplot(131)\n",
    "plt.boxplot(NSWOutcome.tolist())\n",
    "plt.title('NSW Boxplot')\n",
    "plt.ylabel('real earnings in 1978 ')\n",
    "plt.xlabel('NSW')\n",
    "\n",
    "\n",
    "plt.subplot(132)\n",
    "plt.boxplot(NSWOutcome.tolist(),0,'')\n",
    "plt.title('NSW Boxplot Without Outliers')\n",
    "plt.ylabel('real earnings in 1978 ')\n",
    "plt.xlabel('NSW')\n",
    "\n",
    "\n",
    "plt.subplot(133)\n",
    "plt.boxplot(PSIDOutcome.tolist())\n",
    "plt.title('PSID Boxplot')\n",
    "plt.ylabel('real earnings in 1978 ')\n",
    "plt.xlabel('PSID')\n",
    "\n",
    "\n",
    "plt.tight_layout()\n",
    "plt.show()"
   ]
  },
  {
   "cell_type": "markdown",
   "metadata": {},
   "source": [
    "We can see for the PSID Boxplot and the NSW boxplot without outliers, that the median increased considerably while skipping the people without income in 1978. Indeed the median is almost 7500 of earning while the median if we count the people without income is over 5000 of earnings.\n"
   ]
  },
  {
   "cell_type": "markdown",
   "metadata": {},
   "source": [
    "#### 2. A closer look at the data\n",
    "\n",
    "You're not naive, of course (and even if you are, you've learned certain things in ADA), so you aren't content with a superficial analysis such as the above.\n",
    "You're aware of the dangers of observational studies, so you take a closer look at the data before jumping to conclusions.\n",
    "\n",
    "For each feature in the dataset, compare its distribution in the treated group with its distribution in the control group, using plots and numbers.\n",
    "As above, you may use the techniques we discussed in class for summarizing and comparing the distributions.\n",
    "\n",
    "What do you observe?\n",
    "Describe what your observations mean for the conclusions drawn by the naive \"researcher\" from his superficial analysis."
   ]
  },
  {
   "cell_type": "code",
   "execution_count": 57,
   "metadata": {},
   "outputs": [],
   "source": [
    "#Selecting Black people that follow the training or not\n",
    "blackNSW = dataset.loc[copyDS['treat'] == 1]['black'] \n",
    "blackPSID = dataset.loc[copyDS['treat'] == 0]['black'] \n",
    "\n",
    "#Selecting Hispanic people that follow the training or not\n",
    "hispanNSW = dataset.loc[copyDS['treat'] == 1]['hispan'] \n",
    "hispanPSID = dataset.loc[copyDS['treat'] == 0]['hispan']\n",
    "\n",
    "#Selecting married people that follow the training or not\n",
    "marriedNSW = dataset.loc[copyDS['treat'] == 1]['married'] \n",
    "marriedPSID = dataset.loc[copyDS['treat'] == 0]['married']"
   ]
  },
  {
   "cell_type": "code",
   "execution_count": 58,
   "metadata": {},
   "outputs": [],
   "source": [
    "#Percentage of black people in that followed the training\n",
    "blackNSWPer = round(blackNSW[blackNSW == 1].size / blackNSW.size * 100)\n",
    "#Percentage of black people in that didn't followed the training\n",
    "blackPSIDPer = round(blackPSID[blackPSID == 1].size / blackPSID.size * 100)\n",
    "\n",
    "#Percentage of hispanic people in that followed the training\n",
    "hispanNSWPer = round(hispanNSW[hispanNSW == 1].size / hispanNSW.size * 100)\n",
    "#Percentage of hispanic people in that didn't followed the training\n",
    "hispanPSIDPer = round(hispanPSID[hispanPSID == 1].size / hispanPSID.size * 100)\n",
    "\n",
    "#Percentage of married people in that followed the training\n",
    "marriedNSWPer = round(marriedNSW[marriedNSW == 1].size / mariedNSW.size * 100)\n",
    "#Percentage of married people in that didn't followed the training\n",
    "marriedPSIDPer = round(marriedPSID[marriedPSID == 1].size / mariedPSID.size * 100)\n",
    "\n",
    "\n",
    "\n"
   ]
  },
  {
   "cell_type": "code",
   "execution_count": 64,
   "metadata": {},
   "outputs": [
    {
     "data": {
      "image/png": "[encoded data removed]",
      "text/plain": [
       "<matplotlib.figure.Figure at 0x10b65d278>"
      ]
     },
     "metadata": {},
     "output_type": "display_data"
    }
   ],
   "source": [
    "import numpy as np\n",
    "import matplotlib.pyplot as plt\n",
    "\n",
    "\n",
    "N = 3\n",
    "NSWBar = (blackNSWPer, hispanNSWPer, marriedNSWPer)\n",
    "PSIDBar = (blackPSIDPer, hispanPSIDPer, marriedPSIDPer)\n",
    "\n",
    "ind = np.arange(N)    # the x locations for the groups\n",
    "width = 0.35       # the width of the bars: can also be len(x) sequence\n",
    "\n",
    "fig, ax = plt.subplots()\n",
    "fig.set_figheight(6)\n",
    "rects1 = ax.bar(ind, NSWBar, width, color='#78c679')\n",
    "\n",
    "rects2 = ax.bar(ind + width, PSIDBar, width, color='#2c7fb8')\n",
    "\n",
    "# add some text for labels, title and axes ticks\n",
    "ax.set_facecolor('#f1eef6')\n",
    "ax.set_ylabel('Percentage [%]')\n",
    "ax.set_ylim(0, 100)\n",
    "#ax.set_title('Percentage ')\n",
    "ax.set_xticks(ind + width / 2)\n",
    "ax.set_xticklabels(('Black', 'Hispano', 'Married'))\n",
    "\n",
    "ax.legend((rects1[0], rects2[0]), ('NSW', 'PSID'))\n",
    "\n",
    "\n",
    "plt.show()"
   ]
  },
  {
   "cell_type": "code",
   "execution_count": 71,
   "metadata": {},
   "outputs": [
    {
     "data": {
      "image/png": "[encoded data removed]",
      "text/plain": [
       "<matplotlib.figure.Figure at 0x10be48eb8>"
      ]
     },
     "metadata": {},
     "output_type": "display_data"
    }
   ],
   "source": [
    "df_age = dataset\n",
    "\n",
    "#Making plots\n",
    "fig, axs = plt.subplots(1,4, figsize=(15,5))\n",
    "\n",
    "dataset.boxplot(column='age', by='treat', ax=axs[0], showfliers=False, showmeans=True)\n",
    "dataset.boxplot(column='educ', by='treat', ax=axs[1], showfliers=False, showmeans=True)\n",
    "dataset.boxplot(column='re74', by='treat', ax=axs[2], showfliers=False, showmeans=True)\n",
    "dataset.boxplot(column='re75', by='treat', ax=axs[3], showfliers=False, showmeans=True)\n",
    "plt.show()"
   ]
  },
  {
   "cell_type": "code",
   "execution_count": 60,
   "metadata": {},
   "outputs": [],
   "source": [
    "# Generate some data from five different probability distributions,\n",
    "# each with different characteristics. We want to play with how an IID\n",
    "# bootstrap resample of the data preserves the distributional\n",
    "# properties of the original sample, and a boxplot is one visual tool\n",
    "# to make this assessment\n",
    "numDists = 5\n",
    "randomDists = ['Normal(1,1)', ' Lognormal(1,1)', 'Exp(1)', 'Gumbel(6,4)',\n",
    "               'Triangular(2,9,11)']\n",
    "N = 500\n",
    "np.random.seed(0)\n",
    "norm = np.random.normal(1, 1, N)\n",
    "logn = np.random.lognormal(1, 1, N)\n",
    "expo = np.random.exponential(1, N)\n",
    "gumb = np.random.gumbel(6, 4, N)\n",
    "tria = np.random.triangular(2, 9, 11, N)\n",
    "\n",
    "# Generate some random indices that we'll use to resample the original data\n",
    "# arrays. For code brevity, just use the same random indices for each array\n",
    "bootstrapIndices = np.random.random_integers(0, N - 1, N)\n",
    "normBoot = norm[bootstrapIndices]\n",
    "expoBoot = expo[bootstrapIndices]\n",
    "gumbBoot = gumb[bootstrapIndices]\n",
    "lognBoot = logn[bootstrapIndices]\n",
    "triaBoot = tria[bootstrapIndices]\n",
    "\n",
    "data = [norm, normBoot, logn, lognBoot, expo, expoBoot, gumb, gumbBoot,\n",
    "        tria, triaBoot]\n",
    "\n",
    "fig, ax1 = plt.subplots(figsize=(10, 6))\n",
    "fig.canvas.set_window_title('A Boxplot Example')\n",
    "plt.subplots_adjust(left=0.075, right=0.95, top=0.9, bottom=0.25)\n",
    "\n",
    "bp = plt.boxplot(data, notch=0, sym='+', vert=1, whis=1.5)\n",
    "plt.setp(bp['boxes'], color='black')\n",
    "plt.setp(bp['whiskers'], color='black')\n",
    "plt.setp(bp['fliers'], color='red', marker='+')\n",
    "\n",
    "# Add a horizontal grid to the plot, but make it very light in color\n",
    "# so we can use it for reading data values but not be distracting\n",
    "ax1.yaxis.grid(True, linestyle='-', which='major', color='lightgrey',\n",
    "               alpha=0.5)\n",
    "\n",
    "# Hide these grid behind plot objects\n",
    "ax1.set_axisbelow(True)\n",
    "ax1.set_title('Comparison of IID Bootstrap Resampling Across Five Distributions')\n",
    "ax1.set_xlabel('Distribution')\n",
    "ax1.set_ylabel('Value')"
   ]
  },
  {
   "cell_type": "markdown",
   "metadata": {},
   "source": [
    "#### 3. A propensity score model"
   ]
  },
  {
   "cell_type": "code",
   "execution_count": null,
   "metadata": {},
   "outputs": [],
   "source": []
  },
  {
   "cell_type": "markdown",
   "metadata": {},
   "source": [
    "#### 4. Balancing the dataset via matching"
   ]
  },
  {
   "cell_type": "code",
   "execution_count": null,
   "metadata": {},
   "outputs": [],
   "source": []
  },
  {
   "cell_type": "markdown",
   "metadata": {},
   "source": [
    "#### 5. Balancing the groups further"
   ]
  },
  {
   "cell_type": "code",
   "execution_count": null,
   "metadata": {},
   "outputs": [],
   "source": []
  },
  {
   "cell_type": "markdown",
   "metadata": {},
   "source": [
    "#### 6. A less naive analysis"
   ]
  },
  {
   "cell_type": "code",
   "execution_count": null,
   "metadata": {},
   "outputs": [],
   "source": []
  },
  {
   "cell_type": "markdown",
   "metadata": {},
   "source": [
    "## Question 2: Applied ML"
   ]
  },
  {
   "cell_type": "code",
   "execution_count": null,
   "metadata": {},
   "outputs": [],
   "source": []
  }
 ],
 "metadata": {
  "kernelspec": {
   "display_name": "Python 3",
   "language": "python",
   "name": "python3"
  },
  "language_info": {
   "codemirror_mode": {
    "name": "ipython",
    "version": 3
   },
   "file_extension": ".py",
   "mimetype": "text/x-python",
   "name": "python",
   "nbconvert_exporter": "python",
   "pygments_lexer": "ipython3",
   "version": "3.6.1"
  }
 },
 "nbformat": 4,
 "nbformat_minor": 2
}
