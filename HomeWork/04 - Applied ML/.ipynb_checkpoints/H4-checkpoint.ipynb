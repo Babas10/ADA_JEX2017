{
 "cells": [
  {
   "cell_type": "markdown",
   "metadata": {},
   "source": [
    "## Question 1: Propensity score matching"
   ]
  },
  {
   "cell_type": "markdown",
   "metadata": {},
   "source": [
    "#### Dataset description\n",
    "\n",
    "- `treat`: 1 if the subject participated in the job training program, 0 otherwise\n",
    "- `age`: the subject's age\n",
    "- `educ`: years of education\n",
    "- `race`: categorical variable with three possible values: Black, Hispanic, or White\n",
    "- `married`: 1 if the subject was married at the time of the training program, 0 otherwise\n",
    "- `nodegree`: 1 if the subject has earned no school degree, 0 otherwise\n",
    "- `re74`: real earnings in 1974 (pre-treatment)\n",
    "- `re75`: real earnings in 1975 (pre-treatment)\n",
    "- `re78`: real earnings in 1978 (outcome)"
   ]
  },
  {
   "cell_type": "code",
   "execution_count": 2,
   "metadata": {},
   "outputs": [],
   "source": [
    "import os\n",
    "import pandas as pd\n",
    "import json\n",
    "import numpy as np\n",
    "import matplotlib.pyplot as plt\n",
    "from ipywidgets import widgets,interact\n",
    "from IPython.display import display\n",
    "\n",
    "from sklearn import linear_model\n"
   ]
  },
  {
   "cell_type": "markdown",
   "metadata": {},
   "source": [
    "#### 1. A naive analysis\n",
    "\n",
    "Compare the distribution of the outcome variable (`re78`) between the two groups, using plots and numbers.\n",
    "To summarize and compare the distributions, you may use the techniques we discussed in lectures 4 (\"Read the stats carefully\") and 6 (\"Data visualization\").\n",
    "\n",
    "What might a naive \"researcher\" conclude from this superficial analysis?"
   ]
  },
  {
   "cell_type": "code",
   "execution_count": 3,
   "metadata": {},
   "outputs": [],
   "source": [
    "path = './lalonde.csv'\n",
    "dataset = pd.read_csv(path)"
   ]
  },
  {
   "cell_type": "markdown",
   "metadata": {},
   "source": [
    "#### Adding the white feature"
   ]
  },
  {
   "cell_type": "code",
   "execution_count": 4,
   "metadata": {},
   "outputs": [],
   "source": [
    "NoBlack = dataset.index[dataset['black'] == 0].tolist()\n",
    "NoHispano = dataset.index[dataset['hispan'] == 0].tolist()\n",
    "#white = zeros(1,)\n",
    "White = list(set(NoHispano).intersection(NoBlack))\n",
    "dataset['white'] = 0\n",
    "dataset.loc[White,'white'] = 1\n",
    "\n"
   ]
  },
  {
   "cell_type": "code",
   "execution_count": 5,
   "metadata": {},
   "outputs": [
    {
     "data": {
      "text/html": [
       "<div>\n",
       "<style>\n",
       "    .dataframe thead tr:only-child th {\n",
       "        text-align: right;\n",
       "    }\n",
       "\n",
       "    .dataframe thead th {\n",
       "        text-align: left;\n",
       "    }\n",
       "\n",
       "    .dataframe tbody tr th {\n",
       "        vertical-align: top;\n",
       "    }\n",
       "</style>\n",
       "<table border=\"1\" class=\"dataframe\">\n",
       "  <thead>\n",
       "    <tr style=\"text-align: right;\">\n",
       "      <th></th>\n",
       "      <th>id</th>\n",
       "      <th>treat</th>\n",
       "      <th>age</th>\n",
       "      <th>educ</th>\n",
       "      <th>black</th>\n",
       "      <th>hispan</th>\n",
       "      <th>married</th>\n",
       "      <th>nodegree</th>\n",
       "      <th>re74</th>\n",
       "      <th>re75</th>\n",
       "      <th>re78</th>\n",
       "      <th>white</th>\n",
       "    </tr>\n",
       "  </thead>\n",
       "  <tbody>\n",
       "    <tr>\n",
       "      <th>0</th>\n",
       "      <td>NSW1</td>\n",
       "      <td>1</td>\n",
       "      <td>37</td>\n",
       "      <td>11</td>\n",
       "      <td>1</td>\n",
       "      <td>0</td>\n",
       "      <td>1</td>\n",
       "      <td>1</td>\n",
       "      <td>0.0</td>\n",
       "      <td>0.0</td>\n",
       "      <td>9930.0460</td>\n",
       "      <td>0</td>\n",
       "    </tr>\n",
       "    <tr>\n",
       "      <th>1</th>\n",
       "      <td>NSW2</td>\n",
       "      <td>1</td>\n",
       "      <td>22</td>\n",
       "      <td>9</td>\n",
       "      <td>0</td>\n",
       "      <td>1</td>\n",
       "      <td>0</td>\n",
       "      <td>1</td>\n",
       "      <td>0.0</td>\n",
       "      <td>0.0</td>\n",
       "      <td>3595.8940</td>\n",
       "      <td>0</td>\n",
       "    </tr>\n",
       "    <tr>\n",
       "      <th>2</th>\n",
       "      <td>NSW3</td>\n",
       "      <td>1</td>\n",
       "      <td>30</td>\n",
       "      <td>12</td>\n",
       "      <td>1</td>\n",
       "      <td>0</td>\n",
       "      <td>0</td>\n",
       "      <td>0</td>\n",
       "      <td>0.0</td>\n",
       "      <td>0.0</td>\n",
       "      <td>24909.4500</td>\n",
       "      <td>0</td>\n",
       "    </tr>\n",
       "    <tr>\n",
       "      <th>3</th>\n",
       "      <td>NSW4</td>\n",
       "      <td>1</td>\n",
       "      <td>27</td>\n",
       "      <td>11</td>\n",
       "      <td>1</td>\n",
       "      <td>0</td>\n",
       "      <td>0</td>\n",
       "      <td>1</td>\n",
       "      <td>0.0</td>\n",
       "      <td>0.0</td>\n",
       "      <td>7506.1460</td>\n",
       "      <td>0</td>\n",
       "    </tr>\n",
       "    <tr>\n",
       "      <th>4</th>\n",
       "      <td>NSW5</td>\n",
       "      <td>1</td>\n",
       "      <td>33</td>\n",
       "      <td>8</td>\n",
       "      <td>1</td>\n",
       "      <td>0</td>\n",
       "      <td>0</td>\n",
       "      <td>1</td>\n",
       "      <td>0.0</td>\n",
       "      <td>0.0</td>\n",
       "      <td>289.7899</td>\n",
       "      <td>0</td>\n",
       "    </tr>\n",
       "    <tr>\n",
       "      <th>5</th>\n",
       "      <td>NSW6</td>\n",
       "      <td>1</td>\n",
       "      <td>22</td>\n",
       "      <td>9</td>\n",
       "      <td>1</td>\n",
       "      <td>0</td>\n",
       "      <td>0</td>\n",
       "      <td>1</td>\n",
       "      <td>0.0</td>\n",
       "      <td>0.0</td>\n",
       "      <td>4056.4940</td>\n",
       "      <td>0</td>\n",
       "    </tr>\n",
       "    <tr>\n",
       "      <th>6</th>\n",
       "      <td>NSW7</td>\n",
       "      <td>1</td>\n",
       "      <td>23</td>\n",
       "      <td>12</td>\n",
       "      <td>1</td>\n",
       "      <td>0</td>\n",
       "      <td>0</td>\n",
       "      <td>0</td>\n",
       "      <td>0.0</td>\n",
       "      <td>0.0</td>\n",
       "      <td>0.0000</td>\n",
       "      <td>0</td>\n",
       "    </tr>\n",
       "    <tr>\n",
       "      <th>7</th>\n",
       "      <td>NSW8</td>\n",
       "      <td>1</td>\n",
       "      <td>32</td>\n",
       "      <td>11</td>\n",
       "      <td>1</td>\n",
       "      <td>0</td>\n",
       "      <td>0</td>\n",
       "      <td>1</td>\n",
       "      <td>0.0</td>\n",
       "      <td>0.0</td>\n",
       "      <td>8472.1580</td>\n",
       "      <td>0</td>\n",
       "    </tr>\n",
       "    <tr>\n",
       "      <th>8</th>\n",
       "      <td>NSW9</td>\n",
       "      <td>1</td>\n",
       "      <td>22</td>\n",
       "      <td>16</td>\n",
       "      <td>1</td>\n",
       "      <td>0</td>\n",
       "      <td>0</td>\n",
       "      <td>0</td>\n",
       "      <td>0.0</td>\n",
       "      <td>0.0</td>\n",
       "      <td>2164.0220</td>\n",
       "      <td>0</td>\n",
       "    </tr>\n",
       "    <tr>\n",
       "      <th>9</th>\n",
       "      <td>NSW10</td>\n",
       "      <td>1</td>\n",
       "      <td>33</td>\n",
       "      <td>12</td>\n",
       "      <td>0</td>\n",
       "      <td>0</td>\n",
       "      <td>1</td>\n",
       "      <td>0</td>\n",
       "      <td>0.0</td>\n",
       "      <td>0.0</td>\n",
       "      <td>12418.0700</td>\n",
       "      <td>1</td>\n",
       "    </tr>\n",
       "  </tbody>\n",
       "</table>\n",
       "</div>"
      ],
      "text/plain": [
       "      id  treat  age  educ  black  hispan  married  nodegree  re74  re75  \\\n",
       "0   NSW1      1   37    11      1       0        1         1   0.0   0.0   \n",
       "1   NSW2      1   22     9      0       1        0         1   0.0   0.0   \n",
       "2   NSW3      1   30    12      1       0        0         0   0.0   0.0   \n",
       "3   NSW4      1   27    11      1       0        0         1   0.0   0.0   \n",
       "4   NSW5      1   33     8      1       0        0         1   0.0   0.0   \n",
       "5   NSW6      1   22     9      1       0        0         1   0.0   0.0   \n",
       "6   NSW7      1   23    12      1       0        0         0   0.0   0.0   \n",
       "7   NSW8      1   32    11      1       0        0         1   0.0   0.0   \n",
       "8   NSW9      1   22    16      1       0        0         0   0.0   0.0   \n",
       "9  NSW10      1   33    12      0       0        1         0   0.0   0.0   \n",
       "\n",
       "         re78  white  \n",
       "0   9930.0460      0  \n",
       "1   3595.8940      0  \n",
       "2  24909.4500      0  \n",
       "3   7506.1460      0  \n",
       "4    289.7899      0  \n",
       "5   4056.4940      0  \n",
       "6      0.0000      0  \n",
       "7   8472.1580      0  \n",
       "8   2164.0220      0  \n",
       "9  12418.0700      1  "
      ]
     },
     "metadata": {},
     "output_type": "display_data"
    }
   ],
   "source": [
    "display(dataset.head(10))\n"
   ]
  },
  {
   "cell_type": "code",
   "execution_count": 6,
   "metadata": {},
   "outputs": [],
   "source": [
    "copyDS = dataset.copy()\n",
    "''' \n",
    "Here we want to see the distribution of the subject participated in the job training program and the ones that didn't.\n",
    "We will do two box plot an analyse them.\n",
    "'''\n",
    "\n",
    "NSW = dataset.loc[copyDS['treat'] == 1]['re78'] # participated in the job training program\n",
    "PSID = dataset.loc[copyDS['treat'] == 0]['re78'] # Didn't participated in the job training program"
   ]
  },
  {
   "cell_type": "code",
   "execution_count": 7,
   "metadata": {},
   "outputs": [
    {
     "name": "stdout",
     "output_type": "stream",
     "text": [
      "There are 45 zeros in NSW and 98 in PSID\n"
     ]
    }
   ],
   "source": [
    "#Quantifing the amount of 0 in the each group\n",
    "NSWZeros = np.where(NSW == 0.0)[0]\n",
    "PSIDZeros = np.where(PSID == 0.0)[0]\n",
    "print('There are ' + str(len(NSWZeros)) + ' zeros in NSW and ' + str(len(PSIDZeros)) + ' in PSID')\n"
   ]
  },
  {
   "cell_type": "code",
   "execution_count": 8,
   "metadata": {},
   "outputs": [
    {
     "data": {
      "image/png": "[encoded data removed]",
      "text/plain": [
       "<matplotlib.figure.Figure at 0x108bb8630>"
      ]
     },
     "metadata": {},
     "output_type": "display_data"
    }
   ],
   "source": [
    "plt.figure(figsize=(8, 6)) \n",
    "\n",
    "plt.subplot(1, 2, 1)\n",
    "histNSW = plt.hist(NSW.tolist())\n",
    "plt.title('NSW Hist',fontsize=16)\n",
    "plt.ylabel('Real earnings in 1978 ',fontsize=12)\n",
    "plt.xlabel('NSW',fontsize=12)\n",
    "\n",
    "plt.subplot(1, 2, 2)\n",
    "histPSID = plt.hist(PSID.tolist())\n",
    "plt.title('PSID Hist',fontsize=16)\n",
    "plt.xlabel('PSID',fontsize=12)\n",
    "\n",
    "\n",
    "plt.show()"
   ]
  },
  {
   "cell_type": "code",
   "execution_count": 9,
   "metadata": {},
   "outputs": [
    {
     "data": {
      "image/png": "[encoded data removed]",
      "text/plain": [
       "<matplotlib.figure.Figure at 0x1038bf0f0>"
      ]
     },
     "metadata": {},
     "output_type": "display_data"
    }
   ],
   "source": [
    "# multiple box plots on one figure\n",
    "plt.figure(figsize=(10, 6)) \n",
    "plt.subplot(131)\n",
    "plt.boxplot(NSW.tolist())\n",
    "plt.title('NSW Boxplot')\n",
    "plt.ylabel('real earnings in 1978 ')\n",
    "plt.xlabel('NSW')\n",
    "\n",
    "\n",
    "plt.subplot(132)\n",
    "plt.boxplot(NSW.tolist(),0,'')\n",
    "plt.title('NSW Boxplot Without Outliers')\n",
    "plt.ylabel('real earnings in 1978 ')\n",
    "plt.xlabel('NSW')\n",
    "\n",
    "\n",
    "plt.subplot(133)\n",
    "plt.boxplot(PSID.tolist())\n",
    "plt.title('PSID Boxplot')\n",
    "plt.ylabel('real earnings in 1978 ')\n",
    "plt.xlabel('PSID')\n",
    "\n",
    "\n",
    "plt.tight_layout()\n",
    "plt.show()"
   ]
  },
  {
   "cell_type": "markdown",
   "metadata": {},
   "source": [
    "At first sight, we could say that both histograms and  box plot are very similar. The only difference is that the NSW data have some outliers. However, it's highly possible that those outliers play an important role. As seen in the lecture, some distributions are all about the “outliers”.\n",
    "\n",
    "As we are interested in the outcome we will only keep subject with an income in 1978, which means that we will skip the people that didn't have an outcome for the resting of the homework."
   ]
  },
  {
   "cell_type": "code",
   "execution_count": 10,
   "metadata": {},
   "outputs": [
    {
     "data": {
      "image/png": "[encoded data removed]",
      "text/plain": [
       "<matplotlib.figure.Figure at 0x1090147f0>"
      ]
     },
     "metadata": {},
     "output_type": "display_data"
    }
   ],
   "source": [
    "NSWOutcome = NSW.drop(NSWZeros)\n",
    "PSIDOutcome = PSID.drop(PSID[PSID == 0].index)\n",
    "\n",
    "\n",
    "# multiple box plots on one figure\n",
    "plt.figure(figsize=(10, 6)) \n",
    "plt.subplot(131)\n",
    "plt.boxplot(NSWOutcome.tolist())\n",
    "plt.title('NSW Boxplot')\n",
    "plt.ylabel('real earnings in 1978 ')\n",
    "plt.xlabel('NSW')\n",
    "\n",
    "\n",
    "plt.subplot(132)\n",
    "plt.boxplot(NSWOutcome.tolist(),0,'')\n",
    "plt.title('NSW Boxplot Without Outliers')\n",
    "plt.ylabel('real earnings in 1978 ')\n",
    "plt.xlabel('NSW')\n",
    "\n",
    "\n",
    "plt.subplot(133)\n",
    "plt.boxplot(PSIDOutcome.tolist())\n",
    "plt.title('PSID Boxplot')\n",
    "plt.ylabel('real earnings in 1978 ')\n",
    "plt.xlabel('PSID')\n",
    "\n",
    "\n",
    "plt.tight_layout()\n",
    "plt.show()"
   ]
  },
  {
   "cell_type": "markdown",
   "metadata": {},
   "source": [
    "We can see for the PSID Boxplot and the NSW boxplot without outliers, that the median increased considerably while skipping the people without income in 1978. Indeed the median is almost 7500 of earning while the median if we count the people without income is over 5000 of earnings.\n"
   ]
  },
  {
   "cell_type": "markdown",
   "metadata": {},
   "source": [
    "#### 2. A closer look at the data\n",
    "\n",
    "You're not naive, of course (and even if you are, you've learned certain things in ADA), so you aren't content with a superficial analysis such as the above.\n",
    "You're aware of the dangers of observational studies, so you take a closer look at the data before jumping to conclusions.\n",
    "\n",
    "For each feature in the dataset, compare its distribution in the treated group with its distribution in the control group, using plots and numbers.\n",
    "As above, you may use the techniques we discussed in class for summarizing and comparing the distributions.\n",
    "\n",
    "What do you observe?\n",
    "Describe what your observations mean for the conclusions drawn by the naive \"researcher\" from his superficial analysis."
   ]
  },
  {
   "cell_type": "code",
   "execution_count": 11,
   "metadata": {},
   "outputs": [],
   "source": [
    "#Selecting Black people that follow the training or not\n",
    "blackNSW = dataset.loc[copyDS['treat'] == 1]['black'] \n",
    "blackPSID = dataset.loc[copyDS['treat'] == 0]['black']\n",
    "\n",
    "#Selecting Black people that follow the training or not\n",
    "whiteNSW = dataset.loc[copyDS['treat'] == 1]['white'] \n",
    "whitePSID = dataset.loc[copyDS['treat'] == 0]['white'] \n",
    "\n",
    "#Selecting Hispanic people that follow the training or not\n",
    "hispanNSW = dataset.loc[copyDS['treat'] == 1]['hispan'] \n",
    "hispanPSID = dataset.loc[copyDS['treat'] == 0]['hispan']\n",
    "\n",
    "#Selecting married people that follow the training or not\n",
    "marriedNSW = dataset.loc[copyDS['treat'] == 1]['married'] \n",
    "marriedPSID = dataset.loc[copyDS['treat'] == 0]['married']"
   ]
  },
  {
   "cell_type": "code",
   "execution_count": 12,
   "metadata": {},
   "outputs": [],
   "source": [
    "#Percentage of black people in that followed the training\n",
    "blackNSWPer = round(blackNSW[blackNSW == 1].size / blackNSW.size * 100)\n",
    "#Percentage of black people in that didn't followed the training\n",
    "blackPSIDPer = round(blackPSID[blackPSID == 1].size / blackPSID.size * 100)\n",
    "\n",
    "#Percentage of black people in that followed the training\n",
    "whiteNSWPer = round(whiteNSW[whiteNSW == 1].size / whiteNSW.size * 100)\n",
    "#Percentage of black people in that didn't followed the training\n",
    "whitePSIDPer = round(whitePSID[whitePSID == 1].size / whitePSID.size * 100)\n",
    "\n",
    "#Percentage of hispanic people in that followed the training\n",
    "hispanNSWPer = round(hispanNSW[hispanNSW == 1].size / hispanNSW.size * 100)\n",
    "#Percentage of hispanic people in that didn't followed the training\n",
    "hispanPSIDPer = round(hispanPSID[hispanPSID == 1].size / hispanPSID.size * 100)\n",
    "\n",
    "#Percentage of married people in that followed the training\n",
    "marriedNSWPer = round(marriedNSW[marriedNSW == 1].size / marriedNSW.size * 100)\n",
    "#Percentage of married people in that didn't followed the training\n",
    "marriedPSIDPer = round(marriedPSID[marriedPSID == 1].size / marriedPSID.size * 100)\n",
    "\n",
    "\n",
    "\n"
   ]
  },
  {
   "cell_type": "code",
   "execution_count": 13,
   "metadata": {},
   "outputs": [
    {
     "data": {
      "image/png": "[encoded data removed]",
      "text/plain": [
       "<matplotlib.figure.Figure at 0x109339550>"
      ]
     },
     "metadata": {},
     "output_type": "display_data"
    }
   ],
   "source": [
    "import numpy as np\n",
    "import matplotlib.pyplot as plt\n",
    "\n",
    "\n",
    "N = 4\n",
    "NSWBar = (blackNSWPer,whiteNSWPer, hispanNSWPer, marriedNSWPer)\n",
    "PSIDBar = (blackPSIDPer,whitePSIDPer, hispanPSIDPer, marriedPSIDPer)\n",
    "\n",
    "ind = np.arange(N)    # the x locations for the groups\n",
    "width = 0.35       # the width of the bars: can also be len(x) sequence\n",
    "\n",
    "fig, ax = plt.subplots()\n",
    "fig.set_figheight(6)\n",
    "rects1 = ax.bar(ind, NSWBar, width, color='#78c679')\n",
    "\n",
    "rects2 = ax.bar(ind + width, PSIDBar, width, color='#2c7fb8')\n",
    "\n",
    "# add some text for labels, title and axes ticks\n",
    "ax.set_facecolor('#f1eef6')\n",
    "ax.set_ylabel('Percentage [%]')\n",
    "ax.set_ylim(0, 100)\n",
    "#ax.set_title('Percentage ')\n",
    "ax.set_xticks(ind + width / 2)\n",
    "ax.set_xticklabels(('Black','White' ,'Hispano', 'Married'))\n",
    "\n",
    "ax.legend((rects1[0], rects2[0]), ('NSW', 'PSID'))\n",
    "\n",
    "\n",
    "plt.show()"
   ]
  },
  {
   "cell_type": "code",
   "execution_count": 14,
   "metadata": {},
   "outputs": [
    {
     "name": "stderr",
     "output_type": "stream",
     "text": [
      "/usr/local/lib/python3.6/site-packages/pandas/core/indexing.py:179: SettingWithCopyWarning: \n",
      "A value is trying to be set on a copy of a slice from a DataFrame\n",
      "\n",
      "See the caveats in the documentation: http://pandas.pydata.org/pandas-docs/stable/indexing.html#indexing-view-versus-copy\n",
      "  self._setitem_with_indexer(indexer, value)\n"
     ]
    }
   ],
   "source": [
    "dataset['id'].loc[dataset['treat'] == 1] = 'NSW'\n",
    "dataset['id'].loc[dataset['treat'] == 0] = 'PSID'\n",
    "dataset.rename(columns={'id':'Treatment'}, inplace=True)"
   ]
  },
  {
   "cell_type": "code",
   "execution_count": 15,
   "metadata": {},
   "outputs": [
    {
     "data": {
      "image/png": "[encoded data removed]",
      "text/plain": [
       "<matplotlib.figure.Figure at 0x10927ee80>"
      ]
     },
     "metadata": {},
     "output_type": "display_data"
    }
   ],
   "source": [
    "#dataset['id'].loc[dataset['treat'] == 1] = 'NSW'\n",
    "#dataset['id'].loc[dataset['treat'] == 0] = 'PSID'\n",
    "#dataset.rename(columns={'id':'Treatment'}, inplace=True)\n",
    "#Making plots\n",
    "fig, axs = plt.subplots(1,4,gridspec_kw =  dict(wspace=0.4), figsize=(15,5))\n",
    "fig.subplots_adjust(wspace=1)\n",
    "#fig.suptitle('New title here')\n",
    "\n",
    "fig.texts = [] #flush the old super titles\n",
    "axs[0].get_figure().suptitle(\"\")\n",
    "#plt.suptitle('Some title')\n",
    "\n",
    "axs[0].set_ylabel('Age')\n",
    "axs[1].set_ylabel('Years of education')\n",
    "axs[2].set_ylabel('Real earnings in 1974')\n",
    "axs[3].set_ylabel('Real earnings in 1975')\n",
    "\n",
    "\n",
    "dataset.boxplot(column='age',  by='Treatment', ax=axs[0],grid = False, showfliers=False, showmeans=True)\n",
    "dataset.boxplot(column='educ', by='Treatment', ax=axs[1],grid = False, showfliers=False, showmeans=True)\n",
    "dataset.boxplot(column='re74', by='Treatment', ax=axs[2],grid = False, showfliers=False, showmeans=True)\n",
    "dataset.boxplot(column='re75', by='Treatment', ax=axs[3],grid = False, showfliers=False, showmeans=True)\n",
    "plt.show()"
   ]
  },
  {
   "cell_type": "markdown",
   "metadata": {},
   "source": [
    "#### 3. A propensity score model\n",
    "\n",
    "Use logistic regression to estimate propensity scores for all points in the dataset.\n",
    "You may use `sklearn` to fit the logistic regression model and apply it to each data point to obtain propensity scores:\n",
    "\n",
    "```python\n",
    "from sklearn import linear_model\n",
    "logistic = linear_model.LogisticRegression()\n",
    "```\n",
    "\n",
    "Recall that the propensity score of a data point represents its probability of receiving the treatment, based on its pre-treatment features (in this case, age, education, pre-treatment income, etc.).\n",
    "To brush up on propensity scores, you may read chapter 3.3 of the above-cited book by Rosenbaum or [this article](https://drive.google.com/file/d/0B4jctQY-uqhzTlpBaTBJRTJFVFE/view).\n",
    "\n",
    "Note: you do not need a train/test split here. Train and apply the model on the entire dataset. If you're wondering why this is the right thing to do in this situation, recall that the propensity score model is not used in order to make predictions about unseen data. Its sole purpose is to balance the dataset across treatment groups.\n",
    "(See p. 74 of Rosenbaum's book for an explanation why slight overfitting is even good for propensity scores.\n",
    "If you want even more information, read [this article](https://drive.google.com/file/d/0B4jctQY-uqhzTlpBaTBJRTJFVFE/view).)"
   ]
  },
  {
   "cell_type": "code",
   "execution_count": 35,
   "metadata": {},
   "outputs": [
    {
     "ename": "NameError",
     "evalue": "name 'propensySet' is not defined",
     "output_type": "error",
     "traceback": [
      "\u001b[0;31m---------------------------------------------------------------------------\u001b[0m",
      "\u001b[0;31mNameError\u001b[0m                                 Traceback (most recent call last)",
      "\u001b[0;32m<ipython-input-35-7ab35657afe3>\u001b[0m in \u001b[0;36m<module>\u001b[0;34m()\u001b[0m\n\u001b[1;32m     11\u001b[0m \u001b[0;34m\u001b[0m\u001b[0m\n\u001b[1;32m     12\u001b[0m \u001b[0mPropensityScore\u001b[0m\u001b[0;34m.\u001b[0m\u001b[0mcolumns\u001b[0m \u001b[0;34m=\u001b[0m \u001b[0;34m[\u001b[0m\u001b[0;34m'prop score PSID'\u001b[0m\u001b[0;34m,\u001b[0m \u001b[0;34m'prop score NSW'\u001b[0m\u001b[0;34m]\u001b[0m\u001b[0;34m\u001b[0m\u001b[0m\n\u001b[0;32m---> 13\u001b[0;31m \u001b[0mPropensityScore\u001b[0m\u001b[0;34m[\u001b[0m\u001b[0;34m'Treat'\u001b[0m\u001b[0;34m]\u001b[0m \u001b[0;34m=\u001b[0m \u001b[0mpropensySet\u001b[0m\u001b[0;34m[\u001b[0m\u001b[0;34m'treat'\u001b[0m\u001b[0;34m]\u001b[0m\u001b[0;34m\u001b[0m\u001b[0m\n\u001b[0m\u001b[1;32m     14\u001b[0m \u001b[0mdisplay\u001b[0m\u001b[0;34m(\u001b[0m\u001b[0mPropensityScore\u001b[0m\u001b[0;34m.\u001b[0m\u001b[0mhead\u001b[0m\u001b[0;34m(\u001b[0m\u001b[0;36m5\u001b[0m\u001b[0;34m)\u001b[0m\u001b[0;34m)\u001b[0m\u001b[0;34m\u001b[0m\u001b[0m\n\u001b[1;32m     15\u001b[0m \u001b[0;34m\u001b[0m\u001b[0m\n",
      "\u001b[0;31mNameError\u001b[0m: name 'propensySet' is not defined"
     ]
    }
   ],
   "source": [
    "logistic = linear_model.LogisticRegression()\n",
    "\n",
    "\n",
    "X = dataset[['age','educ','black','hispan','married','nodegree','re74','re75','white']]  # we only take the first two features.\n",
    "Y = dataset.treat\n",
    "\n",
    "# we create an instance of Neighbours Classifier and fit the data.\n",
    "logistic.fit(X ,Y)\n",
    "# The returned estimates for all classes are ordered by the label of classes.\n",
    "PropensityScore = pd.DataFrame(logistic.predict_proba(X))\n",
    "\n",
    "PropensityScore.columns = ['prop score PSID', 'prop score NSW']\n",
    "PropensityScore['Treat'] = data['treat']\n",
    "display(PropensityScore.head(5))\n",
    "\n",
    "NSWProp = PropensityScore.loc[PropensityScore['Treat'] == 1]\n",
    "PSIDProp = PropensityScore.loc[PropensityScore['Treat'] == 0]\n"
   ]
  },
  {
   "cell_type": "code",
   "execution_count": 34,
   "metadata": {},
   "outputs": [
    {
     "data": {
      "image/png": "[encoded data removed]",
      "text/plain": [
       "<matplotlib.figure.Figure at 0x109ba3b38>"
      ]
     },
     "metadata": {},
     "output_type": "display_data"
    },
    {
     "data": {
      "image/png": "[encoded data removed]",
      "text/plain": [
       "<matplotlib.figure.Figure at 0x109975da0>"
      ]
     },
     "metadata": {},
     "output_type": "display_data"
    }
   ],
   "source": [
    "fig, axs = plt.subplots(1,2,gridspec_kw =  dict(wspace=0.4), figsize=(15,5))\n",
    "\n",
    "NSWProp.hist(column = ['prop score PSID'])\n",
    "PSIDProp.hist(column = ['prop score PSID'])\n",
    "plt.show()"
   ]
  },
  {
   "cell_type": "markdown",
   "metadata": {},
   "source": [
    "#### 4. Balancing the dataset via matching"
   ]
  },
  {
   "cell_type": "code",
   "execution_count": null,
   "metadata": {},
   "outputs": [],
   "source": []
  },
  {
   "cell_type": "markdown",
   "metadata": {},
   "source": [
    "#### 5. Balancing the groups further"
   ]
  },
  {
   "cell_type": "code",
   "execution_count": null,
   "metadata": {},
   "outputs": [],
   "source": []
  },
  {
   "cell_type": "markdown",
   "metadata": {},
   "source": [
    "#### 6. A less naive analysis"
   ]
  },
  {
   "cell_type": "code",
   "execution_count": null,
   "metadata": {},
   "outputs": [],
   "source": []
  },
  {
   "cell_type": "markdown",
   "metadata": {},
   "source": [
    "## Question 2: Applied ML"
   ]
  },
  {
   "cell_type": "code",
   "execution_count": null,
   "metadata": {},
   "outputs": [],
   "source": []
  }
 ],
 "metadata": {
  "kernelspec": {
   "display_name": "Python 3",
   "language": "python",
   "name": "python3"
  },
  "language_info": {
   "codemirror_mode": {
    "name": "ipython",
    "version": 3
   },
   "file_extension": ".py",
   "mimetype": "text/x-python",
   "name": "python",
   "nbconvert_exporter": "python",
   "pygments_lexer": "ipython3",
   "version": "3.6.1"
  }
 },
 "nbformat": 4,
 "nbformat_minor": 2
}
