{
 "cells": [
  {
   "cell_type": "markdown",
   "metadata": {},
   "source": [
    "## Question 1: Propensity score matching"
   ]
  },
  {
   "cell_type": "markdown",
   "metadata": {},
   "source": [
    "#### Dataset description\n",
    "\n",
    "- `treat`: 1 if the subject participated in the job training program, 0 otherwise\n",
    "- `age`: the subject's age\n",
    "- `educ`: years of education\n",
    "- `race`: categorical variable with three possible values: Black, Hispanic, or White\n",
    "- `married`: 1 if the subject was married at the time of the training program, 0 otherwise\n",
    "- `nodegree`: 1 if the subject has earned no school degree, 0 otherwise\n",
    "- `re74`: real earnings in 1974 (pre-treatment)\n",
    "- `re75`: real earnings in 1975 (pre-treatment)\n",
    "- `re78`: real earnings in 1978 (outcome)"
   ]
  },
  {
   "cell_type": "code",
   "execution_count": 1,
   "metadata": {},
   "outputs": [],
   "source": [
    "import os\n",
    "import pandas as pd\n",
    "import json\n",
    "import numpy as np\n",
    "import matplotlib.pyplot as plt\n",
    "from ipywidgets import widgets,interact\n",
    "from IPython.display import display\n",
    "\n",
    "from sklearn import linear_model\n"
   ]
  },
  {
   "cell_type": "markdown",
   "metadata": {},
   "source": [
    "## Helpers Functions"
   ]
  },
  {
   "cell_type": "code",
   "execution_count": 48,
   "metadata": {},
   "outputs": [],
   "source": [
    "def DataFrameBoxPlots(dataframe):\n",
    "    fig, axs = plt.subplots(1,5,gridspec_kw =  dict(wspace=0.5), figsize=(15,5))\n",
    "    fig.subplots_adjust(wspace=1)\n",
    "\n",
    "\n",
    "    fig.texts = [] #flush the old super titles\n",
    "    axs[0].get_figure().suptitle(\"\")\n",
    "\n",
    "\n",
    "    axs[0].set_ylabel('Years spent living')\n",
    "    axs[1].set_ylabel('Years of education')\n",
    "    axs[2].set_ylabel('Real earnings in 1974')\n",
    "    axs[3].set_ylabel('Real earnings in 1975')\n",
    "    axs[4].set_ylabel('Real earnings in 1978')\n",
    "\n",
    "    dataframe.boxplot(column='age',  by='Treatment', ax=axs[0],grid = False, showfliers=True, showmeans=True)\n",
    "    dataframe.boxplot(column='educ', by='Treatment', ax=axs[1],grid = False, showfliers=True, showmeans=True)\n",
    "    dataframe.boxplot(column='re74', by='Treatment', ax=axs[2],grid = False, showfliers=True, showmeans=True)\n",
    "    dataframe.boxplot(column='re75', by='Treatment', ax=axs[3],grid = False, showfliers=True, showmeans=True)\n",
    "    dataframe.boxplot(column='re78', by='Treatment', ax=axs[4],grid = False, showfliers=True, showmeans=True)\n",
    "    plt.show()\n",
    "    \n",
    "    \n",
    "def matchingPeople(dataset):\n",
    "    groupNS=dataset[dataset['treat']==1]\n",
    "    groupPS=dataset[dataset['treat']==0]\n",
    "    G = nx.Graph() \n",
    "    weight=[]\n",
    "    for i in groupNS.index:\n",
    "        for j in groupPS.index:\n",
    "            veci=np.array([groupNS.loc[i]['prop score PSID'],groupNS.loc[i]['prop score NSW']])\n",
    "            vecj=np.array([groupPS.loc[j]['prop score PSID'],groupPS.loc[j]['prop score NSW']])\n",
    "            if np.linalg.norm(veci-vecj)==0:\n",
    "                G.add_edge(i, j, weight=100000000)\n",
    "            else:\n",
    "                G.add_edge(i, j, weight=1/np.linalg.norm(veci-vecj))\n",
    "            \n",
    "    A=nx.max_weight_matching(G)\n",
    "    minArrayLength = min(len(groupNS),len(groupPS))\n",
    "    a=np.sort(list(A.keys()))\n",
    "    a1=a[0:minArrayLength]\n",
    "    a2=a[minArrayLength:minArrayLength+minArrayLength]\n",
    "    print(len(groupNS))\n",
    "    print(len(groupPS))\n",
    "\n",
    "\n",
    "\n",
    "    distance=[]\n",
    "    for i in range(minArrayLength):\n",
    "        distance.append(1/(G[i][A[i]]['weight']))\n",
    "    MatchedPS=groupPS.loc[a2]\n",
    "    MatchedPS['IndividualPS'] =MatchedPS.index\n",
    "    MatchedPS.set_index(np.array(range(minArrayLength)),inplace=True)\n",
    "    MatchedPS.rename(columns={'prop score PSID': 'Prob PS (0)', 'prop score NSW': 'Prob NS (0)'}, inplace=True)\n",
    "\n",
    "    MatchedNS=groupNS.loc[a1]\n",
    "    MatchedNS['IndividualNS'] =MatchedNS.index\n",
    "    MatchedNS.rename(columns={'prop score PSID': 'Prob PS (1)', 'prop score NSW': 'Prob NS (1)'}, inplace=True)\n",
    "\n",
    "\n",
    "    Matching=pd.concat([MatchedNS,MatchedPS],axis=1)\n",
    "    Matching['distance']=distance\n",
    "    #display(Matching.head())\n",
    "    Matching['distance'].min()\n",
    "    data_matched = dataset.loc[list(a1)+list(a2)]\n",
    "    return Matching, a1, a2  \n",
    "\n",
    "\n",
    "def propensityScoreDf(dataset):\n",
    "    logistic = linear_model.LogisticRegression()\n",
    "\n",
    "\n",
    "    X = dataset[['age','educ','black','hispan','married','nodegree','re74','re75','white']]  # we only take the first two features.\n",
    "    Y = dataset.treat\n",
    "\n",
    "    # we create an instance of Neighbours Classifier and fit the data.\n",
    "    logistic.fit(X ,Y)\n",
    "    # The returned estimates for all classes are ordered by the label of classes.\n",
    "    PropensityScore = pd.DataFrame(logistic.predict_proba(X))\n",
    "\n",
    "    PropensityScore.columns = ['prop score PSID', 'prop score NSW']\n",
    "    PropensityScore['treat'] = dataset['treat']\n",
    "    \n",
    "    return PropensityScore"
   ]
  },
  {
   "cell_type": "markdown",
   "metadata": {},
   "source": [
    "#### 1. A naive analysis\n",
    "\n",
    "Compare the distribution of the outcome variable (`re78`) between the two groups, using plots and numbers.\n",
    "To summarize and compare the distributions, you may use the techniques we discussed in lectures 4 (\"Read the stats carefully\") and 6 (\"Data visualization\").\n",
    "\n",
    "What might a naive \"researcher\" conclude from this superficial analysis?"
   ]
  },
  {
   "cell_type": "code",
   "execution_count": 2,
   "metadata": {},
   "outputs": [],
   "source": [
    "# Loading the data\n",
    "path = './lalonde.csv'\n",
    "dataset = pd.read_csv(path)"
   ]
  },
  {
   "cell_type": "code",
   "execution_count": 3,
   "metadata": {},
   "outputs": [
    {
     "name": "stderr",
     "output_type": "stream",
     "text": [
      "/usr/local/lib/python3.6/site-packages/pandas/core/indexing.py:179: SettingWithCopyWarning: \n",
      "A value is trying to be set on a copy of a slice from a DataFrame\n",
      "\n",
      "See the caveats in the documentation: http://pandas.pydata.org/pandas-docs/stable/indexing.html#indexing-view-versus-copy\n",
      "  self._setitem_with_indexer(indexer, value)\n"
     ]
    }
   ],
   "source": [
    "dataset['id'].loc[dataset['treat'] == 1] = 'NSW'\n",
    "dataset['id'].loc[dataset['treat'] == 0] = 'PSID'\n",
    "dataset.rename(columns={'id':'Treatment'}, inplace=True)"
   ]
  },
  {
   "cell_type": "markdown",
   "metadata": {},
   "source": [
    "Adding the white feature to the data frame"
   ]
  },
  {
   "cell_type": "code",
   "execution_count": 4,
   "metadata": {},
   "outputs": [],
   "source": [
    "NoBlack = dataset.index[dataset['black'] == 0].tolist()\n",
    "NoHispano = dataset.index[dataset['hispan'] == 0].tolist()\n",
    "\n",
    "White = list(set(NoHispano).intersection(NoBlack))\n",
    "\n",
    "#Creating the White column of the data frame\n",
    "dataset['white'] = 0\n",
    "dataset.loc[White,'white'] = 1\n",
    "\n"
   ]
  },
  {
   "cell_type": "code",
   "execution_count": 5,
   "metadata": {},
   "outputs": [
    {
     "data": {
      "text/html": [
       "<div>\n",
       "<style>\n",
       "    .dataframe thead tr:only-child th {\n",
       "        text-align: right;\n",
       "    }\n",
       "\n",
       "    .dataframe thead th {\n",
       "        text-align: left;\n",
       "    }\n",
       "\n",
       "    .dataframe tbody tr th {\n",
       "        vertical-align: top;\n",
       "    }\n",
       "</style>\n",
       "<table border=\"1\" class=\"dataframe\">\n",
       "  <thead>\n",
       "    <tr style=\"text-align: right;\">\n",
       "      <th></th>\n",
       "      <th>Treatment</th>\n",
       "      <th>treat</th>\n",
       "      <th>age</th>\n",
       "      <th>educ</th>\n",
       "      <th>black</th>\n",
       "      <th>hispan</th>\n",
       "      <th>married</th>\n",
       "      <th>nodegree</th>\n",
       "      <th>re74</th>\n",
       "      <th>re75</th>\n",
       "      <th>re78</th>\n",
       "      <th>white</th>\n",
       "    </tr>\n",
       "  </thead>\n",
       "  <tbody>\n",
       "    <tr>\n",
       "      <th>0</th>\n",
       "      <td>NSW</td>\n",
       "      <td>1</td>\n",
       "      <td>37</td>\n",
       "      <td>11</td>\n",
       "      <td>1</td>\n",
       "      <td>0</td>\n",
       "      <td>1</td>\n",
       "      <td>1</td>\n",
       "      <td>0.0</td>\n",
       "      <td>0.0</td>\n",
       "      <td>9930.0460</td>\n",
       "      <td>0</td>\n",
       "    </tr>\n",
       "    <tr>\n",
       "      <th>1</th>\n",
       "      <td>NSW</td>\n",
       "      <td>1</td>\n",
       "      <td>22</td>\n",
       "      <td>9</td>\n",
       "      <td>0</td>\n",
       "      <td>1</td>\n",
       "      <td>0</td>\n",
       "      <td>1</td>\n",
       "      <td>0.0</td>\n",
       "      <td>0.0</td>\n",
       "      <td>3595.8940</td>\n",
       "      <td>0</td>\n",
       "    </tr>\n",
       "    <tr>\n",
       "      <th>2</th>\n",
       "      <td>NSW</td>\n",
       "      <td>1</td>\n",
       "      <td>30</td>\n",
       "      <td>12</td>\n",
       "      <td>1</td>\n",
       "      <td>0</td>\n",
       "      <td>0</td>\n",
       "      <td>0</td>\n",
       "      <td>0.0</td>\n",
       "      <td>0.0</td>\n",
       "      <td>24909.4500</td>\n",
       "      <td>0</td>\n",
       "    </tr>\n",
       "    <tr>\n",
       "      <th>3</th>\n",
       "      <td>NSW</td>\n",
       "      <td>1</td>\n",
       "      <td>27</td>\n",
       "      <td>11</td>\n",
       "      <td>1</td>\n",
       "      <td>0</td>\n",
       "      <td>0</td>\n",
       "      <td>1</td>\n",
       "      <td>0.0</td>\n",
       "      <td>0.0</td>\n",
       "      <td>7506.1460</td>\n",
       "      <td>0</td>\n",
       "    </tr>\n",
       "    <tr>\n",
       "      <th>4</th>\n",
       "      <td>NSW</td>\n",
       "      <td>1</td>\n",
       "      <td>33</td>\n",
       "      <td>8</td>\n",
       "      <td>1</td>\n",
       "      <td>0</td>\n",
       "      <td>0</td>\n",
       "      <td>1</td>\n",
       "      <td>0.0</td>\n",
       "      <td>0.0</td>\n",
       "      <td>289.7899</td>\n",
       "      <td>0</td>\n",
       "    </tr>\n",
       "    <tr>\n",
       "      <th>5</th>\n",
       "      <td>NSW</td>\n",
       "      <td>1</td>\n",
       "      <td>22</td>\n",
       "      <td>9</td>\n",
       "      <td>1</td>\n",
       "      <td>0</td>\n",
       "      <td>0</td>\n",
       "      <td>1</td>\n",
       "      <td>0.0</td>\n",
       "      <td>0.0</td>\n",
       "      <td>4056.4940</td>\n",
       "      <td>0</td>\n",
       "    </tr>\n",
       "    <tr>\n",
       "      <th>6</th>\n",
       "      <td>NSW</td>\n",
       "      <td>1</td>\n",
       "      <td>23</td>\n",
       "      <td>12</td>\n",
       "      <td>1</td>\n",
       "      <td>0</td>\n",
       "      <td>0</td>\n",
       "      <td>0</td>\n",
       "      <td>0.0</td>\n",
       "      <td>0.0</td>\n",
       "      <td>0.0000</td>\n",
       "      <td>0</td>\n",
       "    </tr>\n",
       "    <tr>\n",
       "      <th>7</th>\n",
       "      <td>NSW</td>\n",
       "      <td>1</td>\n",
       "      <td>32</td>\n",
       "      <td>11</td>\n",
       "      <td>1</td>\n",
       "      <td>0</td>\n",
       "      <td>0</td>\n",
       "      <td>1</td>\n",
       "      <td>0.0</td>\n",
       "      <td>0.0</td>\n",
       "      <td>8472.1580</td>\n",
       "      <td>0</td>\n",
       "    </tr>\n",
       "    <tr>\n",
       "      <th>8</th>\n",
       "      <td>NSW</td>\n",
       "      <td>1</td>\n",
       "      <td>22</td>\n",
       "      <td>16</td>\n",
       "      <td>1</td>\n",
       "      <td>0</td>\n",
       "      <td>0</td>\n",
       "      <td>0</td>\n",
       "      <td>0.0</td>\n",
       "      <td>0.0</td>\n",
       "      <td>2164.0220</td>\n",
       "      <td>0</td>\n",
       "    </tr>\n",
       "    <tr>\n",
       "      <th>9</th>\n",
       "      <td>NSW</td>\n",
       "      <td>1</td>\n",
       "      <td>33</td>\n",
       "      <td>12</td>\n",
       "      <td>0</td>\n",
       "      <td>0</td>\n",
       "      <td>1</td>\n",
       "      <td>0</td>\n",
       "      <td>0.0</td>\n",
       "      <td>0.0</td>\n",
       "      <td>12418.0700</td>\n",
       "      <td>1</td>\n",
       "    </tr>\n",
       "  </tbody>\n",
       "</table>\n",
       "</div>"
      ],
      "text/plain": [
       "  Treatment  treat  age  educ  black  hispan  married  nodegree  re74  re75  \\\n",
       "0       NSW      1   37    11      1       0        1         1   0.0   0.0   \n",
       "1       NSW      1   22     9      0       1        0         1   0.0   0.0   \n",
       "2       NSW      1   30    12      1       0        0         0   0.0   0.0   \n",
       "3       NSW      1   27    11      1       0        0         1   0.0   0.0   \n",
       "4       NSW      1   33     8      1       0        0         1   0.0   0.0   \n",
       "5       NSW      1   22     9      1       0        0         1   0.0   0.0   \n",
       "6       NSW      1   23    12      1       0        0         0   0.0   0.0   \n",
       "7       NSW      1   32    11      1       0        0         1   0.0   0.0   \n",
       "8       NSW      1   22    16      1       0        0         0   0.0   0.0   \n",
       "9       NSW      1   33    12      0       0        1         0   0.0   0.0   \n",
       "\n",
       "         re78  white  \n",
       "0   9930.0460      0  \n",
       "1   3595.8940      0  \n",
       "2  24909.4500      0  \n",
       "3   7506.1460      0  \n",
       "4    289.7899      0  \n",
       "5   4056.4940      0  \n",
       "6      0.0000      0  \n",
       "7   8472.1580      0  \n",
       "8   2164.0220      0  \n",
       "9  12418.0700      1  "
      ]
     },
     "metadata": {},
     "output_type": "display_data"
    }
   ],
   "source": [
    "display(dataset.head(10))\n"
   ]
  },
  {
   "cell_type": "code",
   "execution_count": 6,
   "metadata": {},
   "outputs": [],
   "source": [
    "''' \n",
    "Here we want to see the distribution of the subject participated in the job training program and the ones that didn't.\n",
    "We will do two box plot an analyse them.\n",
    "'''\n",
    "\n",
    "NSW = dataset.loc[dataset['treat'] == 1]['re78'] # participated in the job training program\n",
    "PSID = dataset.loc[dataset['treat'] == 0]['re78'] # Didn't participated in the job training program"
   ]
  },
  {
   "cell_type": "code",
   "execution_count": 7,
   "metadata": {},
   "outputs": [
    {
     "name": "stdout",
     "output_type": "stream",
     "text": [
      "There are 45 unemployed subjects that participate in the job training program in 1978 and 98 unemployed subjects that did not participate\n"
     ]
    }
   ],
   "source": [
    "#Quantifing the amount of unemployed people within the each group\n",
    "\n",
    "NSWZeros = np.where(NSW == 0.0)[0]\n",
    "PSIDZeros = np.where(PSID == 0.0)[0]\n",
    "print('There are ' + str(len(NSWZeros)) + ' unemployed subjects that participate in the job training program in 1978 and ' + str(len(PSIDZeros)) + ' unemployed subjects that did not participate')\n"
   ]
  },
  {
   "cell_type": "code",
   "execution_count": 8,
   "metadata": {},
   "outputs": [
    {
     "data": {
      "image/png": "[encoded data removed]",
      "text/plain": [
       "<matplotlib.figure.Figure at 0x111a0b2e8>"
      ]
     },
     "metadata": {},
     "output_type": "display_data"
    }
   ],
   "source": [
    "plt.figure(figsize=(8, 6)) \n",
    "\n",
    "plt.subplot(1, 2, 1)\n",
    "histNSW = plt.hist(NSW.tolist())\n",
    "plt.title('NSW Hist',fontsize=16)\n",
    "plt.ylabel('Real earnings in 1978 ',fontsize=12)\n",
    "plt.xlabel('NSW',fontsize=12)\n",
    "\n",
    "plt.subplot(1, 2, 2)\n",
    "histPSID = plt.hist(PSID.tolist(), range = [0,60000])\n",
    "plt.title('PSID Hist',fontsize=16)\n",
    "plt.xlabel('PSID',fontsize=12)\n",
    "\n",
    "\n",
    "plt.show()"
   ]
  },
  {
   "cell_type": "code",
   "execution_count": 9,
   "metadata": {},
   "outputs": [
    {
     "data": {
      "image/png": "[encoded data removed]",
      "text/plain": [
       "<matplotlib.figure.Figure at 0x111be0588>"
      ]
     },
     "metadata": {},
     "output_type": "display_data"
    }
   ],
   "source": [
    "# multiple box plots on one figure\n",
    "plt.figure(figsize=(10, 6)) \n",
    "plt.subplot(131)\n",
    "plt.boxplot(NSW.tolist())\n",
    "plt.title('NSW Boxplot')\n",
    "plt.ylabel('real earnings in 1978 ')\n",
    "plt.xlabel('NSW')\n",
    "\n",
    "\n",
    "plt.subplot(132)\n",
    "plt.boxplot(NSW.tolist(),0,'')\n",
    "plt.title('NSW Boxplot Without Outliers')\n",
    "plt.ylabel('real earnings in 1978 ')\n",
    "plt.xlabel('NSW')\n",
    "\n",
    "\n",
    "plt.subplot(133)\n",
    "plt.boxplot(PSID.tolist())\n",
    "plt.title('PSID Boxplot')\n",
    "plt.ylabel('real earnings in 1978 ')\n",
    "plt.xlabel('PSID')\n",
    "\n",
    "\n",
    "plt.tight_layout()\n",
    "plt.show()"
   ]
  },
  {
   "cell_type": "markdown",
   "metadata": {},
   "source": [
    "At first sight, we could say that both histograms and  box plot are very similar. The only difference is that the NSW data have some outliers. However, it's highly possible that those outliers play an important role. As seen in the lecture, some distributions are all about the “outliers”."
   ]
  },
  {
   "cell_type": "markdown",
   "metadata": {},
   "source": [
    "#### 2. A closer look at the data\n",
    "\n",
    "You're not naive, of course (and even if you are, you've learned certain things in ADA), so you aren't content with a superficial analysis such as the above.\n",
    "You're aware of the dangers of observational studies, so you take a closer look at the data before jumping to conclusions.\n",
    "\n",
    "For each feature in the dataset, compare its distribution in the treated group with its distribution in the control group, using plots and numbers.\n",
    "As above, you may use the techniques we discussed in class for summarizing and comparing the distributions.\n",
    "\n",
    "What do you observe?\n",
    "Describe what your observations mean for the conclusions drawn by the naive \"researcher\" from his superficial analysis."
   ]
  },
  {
   "cell_type": "code",
   "execution_count": 10,
   "metadata": {},
   "outputs": [],
   "source": [
    "#Selecting Black people that follow the training or not\n",
    "blackNSW = dataset.loc[dataset['treat'] == 1]['black'] \n",
    "blackPSID = dataset.loc[dataset['treat'] == 0]['black']\n",
    "\n",
    "#Selecting Black people that follow the training or not\n",
    "whiteNSW = dataset.loc[dataset['treat'] == 1]['white'] \n",
    "whitePSID = dataset.loc[dataset['treat'] == 0]['white'] \n",
    "\n",
    "#Selecting Hispanic people that follow the training or not\n",
    "hispanNSW = dataset.loc[dataset['treat'] == 1]['hispan'] \n",
    "hispanPSID = dataset.loc[dataset['treat'] == 0]['hispan']\n",
    "\n",
    "#Selecting married people that follow the training or not\n",
    "marriedNSW = dataset.loc[dataset['treat'] == 1]['married'] \n",
    "marriedPSID = dataset.loc[dataset['treat'] == 0]['married']"
   ]
  },
  {
   "cell_type": "code",
   "execution_count": 11,
   "metadata": {},
   "outputs": [],
   "source": [
    "#Percentage of black people in that followed the training\n",
    "blackNSWPer = round(blackNSW[blackNSW == 1].size / blackNSW.size * 100)\n",
    "#Percentage of black people in that didn't followed the training\n",
    "blackPSIDPer = round(blackPSID[blackPSID == 1].size / blackPSID.size * 100)\n",
    "\n",
    "#Percentage of black people in that followed the training\n",
    "whiteNSWPer = round(whiteNSW[whiteNSW == 1].size / whiteNSW.size * 100)\n",
    "#Percentage of black people in that didn't followed the training\n",
    "whitePSIDPer = round(whitePSID[whitePSID == 1].size / whitePSID.size * 100)\n",
    "\n",
    "#Percentage of hispanic people in that followed the training\n",
    "hispanNSWPer = round(hispanNSW[hispanNSW == 1].size / hispanNSW.size * 100)\n",
    "#Percentage of hispanic people in that didn't followed the training\n",
    "hispanPSIDPer = round(hispanPSID[hispanPSID == 1].size / hispanPSID.size * 100)\n",
    "\n",
    "#Percentage of married people in that followed the training\n",
    "marriedNSWPer = round(marriedNSW[marriedNSW == 1].size / marriedNSW.size * 100)\n",
    "#Percentage of married people in that didn't followed the training\n",
    "marriedPSIDPer = round(marriedPSID[marriedPSID == 1].size / marriedPSID.size * 100)"
   ]
  },
  {
   "cell_type": "code",
   "execution_count": 12,
   "metadata": {},
   "outputs": [
    {
     "data": {
      "image/png": "[encoded data removed]",
      "text/plain": [
       "<matplotlib.figure.Figure at 0x111ec4ac8>"
      ]
     },
     "metadata": {},
     "output_type": "display_data"
    }
   ],
   "source": [
    "import numpy as np\n",
    "import matplotlib.pyplot as plt\n",
    "\n",
    "\n",
    "N = 4\n",
    "NSWBar = (blackNSWPer,whiteNSWPer, hispanNSWPer, marriedNSWPer)\n",
    "PSIDBar = (blackPSIDPer,whitePSIDPer, hispanPSIDPer, marriedPSIDPer)\n",
    "\n",
    "ind = np.arange(N)    # the x locations for the groups\n",
    "width = 0.35       # the width of the bars: can also be len(x) sequence\n",
    "\n",
    "fig, ax = plt.subplots()\n",
    "fig.set_figheight(6)\n",
    "rects1 = ax.bar(ind, NSWBar, width, color='#78c679')\n",
    "\n",
    "rects2 = ax.bar(ind + width, PSIDBar, width, color='#2c7fb8')\n",
    "\n",
    "# add some text for labels, title and axes ticks\n",
    "ax.set_facecolor('#f1eef6')\n",
    "ax.set_ylabel('Percentage [%]')\n",
    "ax.set_ylim(0, 100)\n",
    "#ax.set_title('Percentage ')\n",
    "ax.set_xticks(ind + width / 2)\n",
    "ax.set_xticklabels(('Black','White' ,'Hispano', 'Married'))\n",
    "\n",
    "ax.legend((rects1[0], rects2[0]), ('NSW', 'PSID'))\n",
    "\n",
    "\n",
    "plt.show()"
   ]
  },
  {
   "cell_type": "markdown",
   "metadata": {},
   "source": [
    "This distribution of the subject it's very interesting. Indeed, we can see that black people, are the large majority of the selected people to participate in the training, while white people where manly refused to participate in the study. This disproportion must be taken in count for further analysis of the results of the study."
   ]
  },
  {
   "cell_type": "code",
   "execution_count": 13,
   "metadata": {},
   "outputs": [
    {
     "data": {
      "image/png": "[encoded data removed]",
      "text/plain": [
       "<matplotlib.figure.Figure at 0x111ed6a90>"
      ]
     },
     "metadata": {},
     "output_type": "display_data"
    }
   ],
   "source": [
    "#Making plots\n",
    "fig, axs = plt.subplots(1,4,gridspec_kw =  dict(wspace=0.4), figsize=(15,5))\n",
    "fig.subplots_adjust(wspace=1)\n",
    "#fig.suptitle('New title here')\n",
    "\n",
    "fig.texts = [] #flush the old super titles\n",
    "axs[0].get_figure().suptitle(\"\")\n",
    "#plt.suptitle('Some title')\n",
    "\n",
    "axs[0].set_ylabel('Age')\n",
    "axs[1].set_ylabel('Years of education')\n",
    "axs[2].set_ylabel('Real earnings in 1974')\n",
    "axs[3].set_ylabel('Real earnings in 1975')\n",
    "\n",
    "\n",
    "dataset.boxplot(column='age',  by='Treatment', ax=axs[0],grid = False, showfliers=False, showmeans=True)\n",
    "dataset.boxplot(column='educ', by='Treatment', ax=axs[1],grid = False, showfliers=False, showmeans=True)\n",
    "dataset.boxplot(column='re74', by='Treatment', ax=axs[2],grid = False, showfliers=False, showmeans=True)\n",
    "dataset.boxplot(column='re75', by='Treatment', ax=axs[3],grid = False, showfliers=False, showmeans=True)\n",
    "plt.show()"
   ]
  },
  {
   "cell_type": "markdown",
   "metadata": {},
   "source": [
    "#### 3. A propensity score model\n",
    "\n",
    "Use logistic regression to estimate propensity scores for all points in the dataset.\n",
    "You may use `sklearn` to fit the logistic regression model and apply it to each data point to obtain propensity scores:\n",
    "\n",
    "```python\n",
    "from sklearn import linear_model\n",
    "logistic = linear_model.LogisticRegression()\n",
    "```\n",
    "\n",
    "Recall that the propensity score of a data point represents its probability of receiving the treatment, based on its pre-treatment features (in this case, age, education, pre-treatment income, etc.).\n",
    "To brush up on propensity scores, you may read chapter 3.3 of the above-cited book by Rosenbaum or [this article](https://drive.google.com/file/d/0B4jctQY-uqhzTlpBaTBJRTJFVFE/view).\n",
    "\n",
    "Note: you do not need a train/test split here. Train and apply the model on the entire dataset. If you're wondering why this is the right thing to do in this situation, recall that the propensity score model is not used in order to make predictions about unseen data. Its sole purpose is to balance the dataset across treatment groups.\n",
    "(See p. 74 of Rosenbaum's book for an explanation why slight overfitting is even good for propensity scores.\n",
    "If you want even more information, read [this article](https://drive.google.com/file/d/0B4jctQY-uqhzTlpBaTBJRTJFVFE/view).)"
   ]
  },
  {
   "cell_type": "code",
   "execution_count": 14,
   "metadata": {},
   "outputs": [
    {
     "data": {
      "text/html": [
       "<div>\n",
       "<style>\n",
       "    .dataframe thead tr:only-child th {\n",
       "        text-align: right;\n",
       "    }\n",
       "\n",
       "    .dataframe thead th {\n",
       "        text-align: left;\n",
       "    }\n",
       "\n",
       "    .dataframe tbody tr th {\n",
       "        vertical-align: top;\n",
       "    }\n",
       "</style>\n",
       "<table border=\"1\" class=\"dataframe\">\n",
       "  <thead>\n",
       "    <tr style=\"text-align: right;\">\n",
       "      <th></th>\n",
       "      <th>prop score PSID</th>\n",
       "      <th>prop score NSW</th>\n",
       "      <th>treat</th>\n",
       "    </tr>\n",
       "  </thead>\n",
       "  <tbody>\n",
       "    <tr>\n",
       "      <th>0</th>\n",
       "      <td>0.487237</td>\n",
       "      <td>0.512763</td>\n",
       "      <td>1</td>\n",
       "    </tr>\n",
       "    <tr>\n",
       "      <th>1</th>\n",
       "      <td>0.706139</td>\n",
       "      <td>0.293861</td>\n",
       "      <td>1</td>\n",
       "    </tr>\n",
       "    <tr>\n",
       "      <th>2</th>\n",
       "      <td>0.351450</td>\n",
       "      <td>0.648550</td>\n",
       "      <td>1</td>\n",
       "    </tr>\n",
       "    <tr>\n",
       "      <th>3</th>\n",
       "      <td>0.332523</td>\n",
       "      <td>0.667477</td>\n",
       "      <td>1</td>\n",
       "    </tr>\n",
       "    <tr>\n",
       "      <th>4</th>\n",
       "      <td>0.336496</td>\n",
       "      <td>0.663504</td>\n",
       "      <td>1</td>\n",
       "    </tr>\n",
       "  </tbody>\n",
       "</table>\n",
       "</div>"
      ],
      "text/plain": [
       "   prop score PSID  prop score NSW  treat\n",
       "0         0.487237        0.512763      1\n",
       "1         0.706139        0.293861      1\n",
       "2         0.351450        0.648550      1\n",
       "3         0.332523        0.667477      1\n",
       "4         0.336496        0.663504      1"
      ]
     },
     "metadata": {},
     "output_type": "display_data"
    }
   ],
   "source": [
    "logistic = linear_model.LogisticRegression()\n",
    "\n",
    "X = dataset[['age','educ','black','hispan','married','nodegree','re74','re75','white']] \n",
    "# we only take the first two features.\n",
    "Y = dataset.treat\n",
    "\n",
    "# we create an instance of Neighbours Classifier and fit the data.\n",
    "logistic.fit(X ,Y)\n",
    "# The returned estimates for all classes are ordered by the label of classes.\n",
    "PropensityScore = pd.DataFrame(logistic.predict_proba(X))\n",
    "\n",
    "PropensityScore.columns = ['prop score PSID', 'prop score NSW']\n",
    "PropensityScore['treat'] = dataset['treat']\n",
    "display(PropensityScore.head(5))\n",
    "\n",
    "NSWProp = PropensityScore.loc[PropensityScore['treat'] == 1]\n",
    "PSIDProp = PropensityScore.loc[PropensityScore['treat'] == 0]\n"
   ]
  },
  {
   "cell_type": "code",
   "execution_count": 15,
   "metadata": {},
   "outputs": [
    {
     "data": {
      "image/png": "[encoded data removed]",
      "text/plain": [
       "<matplotlib.figure.Figure at 0x111efccc0>"
      ]
     },
     "metadata": {},
     "output_type": "display_data"
    }
   ],
   "source": [
    "fig, axs = plt.subplots(1,2,gridspec_kw =  dict(wspace=0.4), figsize=(15,5))\n",
    "\n",
    "axs[0].set_ylabel('Number of people per propensy score')\n",
    "axs[0].set_xlabel('Propensy score NSW')\n",
    "\n",
    "axs[1].set_ylabel('Number of people per propensy score')\n",
    "axs[1].set_xlabel('Propensy score PSID')\n",
    "\n",
    "NSWProp.hist(column = ['prop score PSID'], ax=axs[0])\n",
    "PSIDProp.hist(column = ['prop score PSID'],ax=axs[1])\n",
    "plt.show()"
   ]
  },
  {
   "cell_type": "markdown",
   "metadata": {},
   "source": [
    "#### 4. Balancing the dataset via matching"
   ]
  },
  {
   "cell_type": "code",
   "execution_count": 16,
   "metadata": {},
   "outputs": [
    {
     "data": {
      "text/html": [
       "<div>\n",
       "<style>\n",
       "    .dataframe thead tr:only-child th {\n",
       "        text-align: right;\n",
       "    }\n",
       "\n",
       "    .dataframe thead th {\n",
       "        text-align: left;\n",
       "    }\n",
       "\n",
       "    .dataframe tbody tr th {\n",
       "        vertical-align: top;\n",
       "    }\n",
       "</style>\n",
       "<table border=\"1\" class=\"dataframe\">\n",
       "  <thead>\n",
       "    <tr style=\"text-align: right;\">\n",
       "      <th></th>\n",
       "      <th>prop score PSID</th>\n",
       "      <th>prop score NSW</th>\n",
       "      <th>treat</th>\n",
       "    </tr>\n",
       "  </thead>\n",
       "  <tbody>\n",
       "    <tr>\n",
       "      <th>0</th>\n",
       "      <td>0.487237</td>\n",
       "      <td>0.512763</td>\n",
       "      <td>1</td>\n",
       "    </tr>\n",
       "    <tr>\n",
       "      <th>1</th>\n",
       "      <td>0.706139</td>\n",
       "      <td>0.293861</td>\n",
       "      <td>1</td>\n",
       "    </tr>\n",
       "    <tr>\n",
       "      <th>2</th>\n",
       "      <td>0.351450</td>\n",
       "      <td>0.648550</td>\n",
       "      <td>1</td>\n",
       "    </tr>\n",
       "    <tr>\n",
       "      <th>3</th>\n",
       "      <td>0.332523</td>\n",
       "      <td>0.667477</td>\n",
       "      <td>1</td>\n",
       "    </tr>\n",
       "    <tr>\n",
       "      <th>4</th>\n",
       "      <td>0.336496</td>\n",
       "      <td>0.663504</td>\n",
       "      <td>1</td>\n",
       "    </tr>\n",
       "  </tbody>\n",
       "</table>\n",
       "</div>"
      ],
      "text/plain": [
       "   prop score PSID  prop score NSW  treat\n",
       "0         0.487237        0.512763      1\n",
       "1         0.706139        0.293861      1\n",
       "2         0.351450        0.648550      1\n",
       "3         0.332523        0.667477      1\n",
       "4         0.336496        0.663504      1"
      ]
     },
     "metadata": {},
     "output_type": "display_data"
    }
   ],
   "source": [
    "import networkx as nx\n",
    "display(PropensityScore.head(5))\n",
    "groupNS=PropensityScore[PropensityScore['treat']==1]\n",
    "groupPS=PropensityScore[PropensityScore['treat']==0]"
   ]
  },
  {
   "cell_type": "code",
   "execution_count": 17,
   "metadata": {},
   "outputs": [],
   "source": [
    "G = nx.Graph() \n",
    "weight=[]\n",
    "for i in groupNS.index:\n",
    "    for j in groupPS.index:\n",
    "        veci=np.array([groupNS.loc[i]['prop score PSID'],groupNS.loc[i]['prop score NSW']])\n",
    "        vecj=np.array([groupPS.loc[j]['prop score PSID'],groupPS.loc[j]['prop score NSW']])\n",
    "        if np.linalg.norm(veci-vecj)==0:\n",
    "            G.add_edge(i, j, weight=100000000)\n",
    "        else:\n",
    "            G.add_edge(i, j, weight=1/np.linalg.norm(veci-vecj))"
   ]
  },
  {
   "cell_type": "code",
   "execution_count": 18,
   "metadata": {},
   "outputs": [],
   "source": [
    "A=nx.max_weight_matching(G)\n"
   ]
  },
  {
   "cell_type": "code",
   "execution_count": 19,
   "metadata": {},
   "outputs": [],
   "source": [
    "# Here we want to quantify how much matches there are whitin different 'race'\n",
    "count = 0\n",
    "for i in range(185):\n",
    "    NSWrace = []\n",
    "    PSIrace = []\n",
    "    NSWrace.append([dataset.loc[i]['white'], dataset.loc[i]['black'],dataset.loc[i]['hispan']])    \n",
    "    PSIrace.append([dataset.loc[int(A[i])]['white'],dataset.loc[int(A[i])]['black'],dataset.loc[int(A[i])]['hispan']])                   \n",
    "    if not (np.array_equal(NSWrace,PSIrace)):\n",
    "            count += 1"
   ]
  },
  {
   "cell_type": "code",
   "execution_count": 20,
   "metadata": {},
   "outputs": [
    {
     "name": "stdout",
     "output_type": "stream",
     "text": [
      "73\n"
     ]
    }
   ],
   "source": [
    "print(count)"
   ]
  },
  {
   "cell_type": "code",
   "execution_count": 21,
   "metadata": {},
   "outputs": [
    {
     "name": "stdout",
     "output_type": "stream",
     "text": [
      "185\n",
      "185\n"
     ]
    }
   ],
   "source": [
    "a=np.sort(list(A.keys()))\n",
    "a1=a[0:185]\n",
    "a2=a[185:185+185]\n",
    "print(len(a1))\n",
    "print(len(a2))"
   ]
  },
  {
   "cell_type": "code",
   "execution_count": 22,
   "metadata": {},
   "outputs": [
    {
     "name": "stdout",
     "output_type": "stream",
     "text": [
      "[189 190 192 199 200 201 206 208 211 212 215 224 225 230 232 235 243 247\n",
      " 250 251 253 260 268 273 278 279 280 281 282 283 294 302 306 311 315 318\n",
      " 320 323 324 325 326 334 335 336 339 341 342 343 344 348 355 357 361 363\n",
      " 364 366 367 368 369 371 372 373 375 376 377 380 383 386 389 392 393 397\n",
      " 400 401 402 403 405 409 410 411 412 415 418 422 423 424 425 431 435 436\n",
      " 437 440 442 444 445 448 449 450 451 452 453 454 455 458 459 461 462 464\n",
      " 465 466 469 475 477 479 484 492 510 511 513 514 515 517 518 519 521 523\n",
      " 524 525 529 532 536 538 539 540 542 545 546 549 550 551 552 553 554 556\n",
      " 557 558 559 560 561 563 564 565 567 568 569 570 571 572 573 575 576 581\n",
      " 582 583 584 585 586 589 590 592 593 594 595 596 598 600 601 603 604 606\n",
      " 607 609 610 612 613]\n"
     ]
    }
   ],
   "source": [
    "print(a2)"
   ]
  },
  {
   "cell_type": "code",
   "execution_count": 23,
   "metadata": {},
   "outputs": [
    {
     "data": {
      "text/html": [
       "<div>\n",
       "<style>\n",
       "    .dataframe thead tr:only-child th {\n",
       "        text-align: right;\n",
       "    }\n",
       "\n",
       "    .dataframe thead th {\n",
       "        text-align: left;\n",
       "    }\n",
       "\n",
       "    .dataframe tbody tr th {\n",
       "        vertical-align: top;\n",
       "    }\n",
       "</style>\n",
       "<table border=\"1\" class=\"dataframe\">\n",
       "  <thead>\n",
       "    <tr style=\"text-align: right;\">\n",
       "      <th></th>\n",
       "      <th>prop score PSID</th>\n",
       "      <th>prop score NSW</th>\n",
       "      <th>treat</th>\n",
       "      <th>IndividualNS</th>\n",
       "      <th>prop score PSID</th>\n",
       "      <th>prop score NSW</th>\n",
       "      <th>treat</th>\n",
       "      <th>IndividualPS</th>\n",
       "      <th>distance</th>\n",
       "    </tr>\n",
       "  </thead>\n",
       "  <tbody>\n",
       "    <tr>\n",
       "      <th>0</th>\n",
       "      <td>0.487237</td>\n",
       "      <td>0.512763</td>\n",
       "      <td>1</td>\n",
       "      <td>0</td>\n",
       "      <td>0.581286</td>\n",
       "      <td>0.418714</td>\n",
       "      <td>0</td>\n",
       "      <td>189</td>\n",
       "      <td>0.000728</td>\n",
       "    </tr>\n",
       "    <tr>\n",
       "      <th>1</th>\n",
       "      <td>0.706139</td>\n",
       "      <td>0.293861</td>\n",
       "      <td>1</td>\n",
       "      <td>1</td>\n",
       "      <td>0.609593</td>\n",
       "      <td>0.390407</td>\n",
       "      <td>0</td>\n",
       "      <td>190</td>\n",
       "      <td>0.003190</td>\n",
       "    </tr>\n",
       "    <tr>\n",
       "      <th>2</th>\n",
       "      <td>0.351450</td>\n",
       "      <td>0.648550</td>\n",
       "      <td>1</td>\n",
       "      <td>2</td>\n",
       "      <td>0.346292</td>\n",
       "      <td>0.653708</td>\n",
       "      <td>0</td>\n",
       "      <td>192</td>\n",
       "      <td>0.000573</td>\n",
       "    </tr>\n",
       "    <tr>\n",
       "      <th>3</th>\n",
       "      <td>0.332523</td>\n",
       "      <td>0.667477</td>\n",
       "      <td>1</td>\n",
       "      <td>3</td>\n",
       "      <td>0.383189</td>\n",
       "      <td>0.616811</td>\n",
       "      <td>0</td>\n",
       "      <td>199</td>\n",
       "      <td>0.720880</td>\n",
       "    </tr>\n",
       "    <tr>\n",
       "      <th>4</th>\n",
       "      <td>0.336496</td>\n",
       "      <td>0.663504</td>\n",
       "      <td>1</td>\n",
       "      <td>4</td>\n",
       "      <td>0.787315</td>\n",
       "      <td>0.212685</td>\n",
       "      <td>0</td>\n",
       "      <td>200</td>\n",
       "      <td>0.659942</td>\n",
       "    </tr>\n",
       "  </tbody>\n",
       "</table>\n",
       "</div>"
      ],
      "text/plain": [
       "   prop score PSID  prop score NSW  treat  IndividualNS  prop score PSID  \\\n",
       "0         0.487237        0.512763      1             0         0.581286   \n",
       "1         0.706139        0.293861      1             1         0.609593   \n",
       "2         0.351450        0.648550      1             2         0.346292   \n",
       "3         0.332523        0.667477      1             3         0.383189   \n",
       "4         0.336496        0.663504      1             4         0.787315   \n",
       "\n",
       "   prop score NSW  treat  IndividualPS  distance  \n",
       "0        0.418714      0           189  0.000728  \n",
       "1        0.390407      0           190  0.003190  \n",
       "2        0.653708      0           192  0.000573  \n",
       "3        0.616811      0           199  0.720880  \n",
       "4        0.212685      0           200  0.659942  "
      ]
     },
     "metadata": {},
     "output_type": "display_data"
    },
    {
     "data": {
      "text/plain": [
       "1e-08"
      ]
     },
     "execution_count": 23,
     "metadata": {},
     "output_type": "execute_result"
    }
   ],
   "source": [
    "distance=[]\n",
    "for i in range(185):\n",
    "    distance.append(1/(G[i][A[i]]['weight']))\n",
    "MatchedPS=groupPS.loc[a2]\n",
    "MatchedPS['IndividualPS'] =MatchedPS.index\n",
    "MatchedPS.set_index(np.array(range(185)),inplace=True)\n",
    "MatchedPS.rename(columns={'prop score no PSID': 'Prob PS (0)', 'prop score no NSW': 'Prob NS (0)'}, inplace=True)\n",
    "\n",
    "MatchedNS=groupNS.loc[a1]\n",
    "MatchedNS['IndividualNS'] =MatchedNS.index\n",
    "MatchedNS.rename(columns={'prop score no PSID': 'Prob PS (1)', 'prop score no NSW': 'Prob NS (1)'}, inplace=True)\n",
    "\n",
    "\n",
    "Matching=pd.concat([MatchedNS,MatchedPS],axis=1)\n",
    "Matching['distance']=distance\n",
    "display(Matching.head())\n",
    "Matching['distance'].min()"
   ]
  },
  {
   "cell_type": "code",
   "execution_count": 24,
   "metadata": {},
   "outputs": [
    {
     "data": {
      "text/html": [
       "<div>\n",
       "<style>\n",
       "    .dataframe thead tr:only-child th {\n",
       "        text-align: right;\n",
       "    }\n",
       "\n",
       "    .dataframe thead th {\n",
       "        text-align: left;\n",
       "    }\n",
       "\n",
       "    .dataframe tbody tr th {\n",
       "        vertical-align: top;\n",
       "    }\n",
       "</style>\n",
       "<table border=\"1\" class=\"dataframe\">\n",
       "  <thead>\n",
       "    <tr style=\"text-align: right;\">\n",
       "      <th></th>\n",
       "      <th>Treatment</th>\n",
       "      <th>treat</th>\n",
       "      <th>age</th>\n",
       "      <th>educ</th>\n",
       "      <th>black</th>\n",
       "      <th>hispan</th>\n",
       "      <th>married</th>\n",
       "      <th>nodegree</th>\n",
       "      <th>re74</th>\n",
       "      <th>re75</th>\n",
       "      <th>re78</th>\n",
       "      <th>white</th>\n",
       "    </tr>\n",
       "  </thead>\n",
       "  <tbody>\n",
       "    <tr>\n",
       "      <th>0</th>\n",
       "      <td>NSW</td>\n",
       "      <td>1</td>\n",
       "      <td>37</td>\n",
       "      <td>11</td>\n",
       "      <td>1</td>\n",
       "      <td>0</td>\n",
       "      <td>1</td>\n",
       "      <td>1</td>\n",
       "      <td>0.0</td>\n",
       "      <td>0.0</td>\n",
       "      <td>9930.0460</td>\n",
       "      <td>0</td>\n",
       "    </tr>\n",
       "    <tr>\n",
       "      <th>1</th>\n",
       "      <td>NSW</td>\n",
       "      <td>1</td>\n",
       "      <td>22</td>\n",
       "      <td>9</td>\n",
       "      <td>0</td>\n",
       "      <td>1</td>\n",
       "      <td>0</td>\n",
       "      <td>1</td>\n",
       "      <td>0.0</td>\n",
       "      <td>0.0</td>\n",
       "      <td>3595.8940</td>\n",
       "      <td>0</td>\n",
       "    </tr>\n",
       "    <tr>\n",
       "      <th>2</th>\n",
       "      <td>NSW</td>\n",
       "      <td>1</td>\n",
       "      <td>30</td>\n",
       "      <td>12</td>\n",
       "      <td>1</td>\n",
       "      <td>0</td>\n",
       "      <td>0</td>\n",
       "      <td>0</td>\n",
       "      <td>0.0</td>\n",
       "      <td>0.0</td>\n",
       "      <td>24909.4500</td>\n",
       "      <td>0</td>\n",
       "    </tr>\n",
       "    <tr>\n",
       "      <th>3</th>\n",
       "      <td>NSW</td>\n",
       "      <td>1</td>\n",
       "      <td>27</td>\n",
       "      <td>11</td>\n",
       "      <td>1</td>\n",
       "      <td>0</td>\n",
       "      <td>0</td>\n",
       "      <td>1</td>\n",
       "      <td>0.0</td>\n",
       "      <td>0.0</td>\n",
       "      <td>7506.1460</td>\n",
       "      <td>0</td>\n",
       "    </tr>\n",
       "    <tr>\n",
       "      <th>4</th>\n",
       "      <td>NSW</td>\n",
       "      <td>1</td>\n",
       "      <td>33</td>\n",
       "      <td>8</td>\n",
       "      <td>1</td>\n",
       "      <td>0</td>\n",
       "      <td>0</td>\n",
       "      <td>1</td>\n",
       "      <td>0.0</td>\n",
       "      <td>0.0</td>\n",
       "      <td>289.7899</td>\n",
       "      <td>0</td>\n",
       "    </tr>\n",
       "  </tbody>\n",
       "</table>\n",
       "</div>"
      ],
      "text/plain": [
       "  Treatment  treat  age  educ  black  hispan  married  nodegree  re74  re75  \\\n",
       "0       NSW      1   37    11      1       0        1         1   0.0   0.0   \n",
       "1       NSW      1   22     9      0       1        0         1   0.0   0.0   \n",
       "2       NSW      1   30    12      1       0        0         0   0.0   0.0   \n",
       "3       NSW      1   27    11      1       0        0         1   0.0   0.0   \n",
       "4       NSW      1   33     8      1       0        0         1   0.0   0.0   \n",
       "\n",
       "         re78  white  \n",
       "0   9930.0460      0  \n",
       "1   3595.8940      0  \n",
       "2  24909.4500      0  \n",
       "3   7506.1460      0  \n",
       "4    289.7899      0  "
      ]
     },
     "execution_count": 24,
     "metadata": {},
     "output_type": "execute_result"
    }
   ],
   "source": [
    "data_matched=dataset.loc[list(a1)+list(a2)]\n",
    "data_matched.head()"
   ]
  },
  {
   "cell_type": "code",
   "execution_count": 25,
   "metadata": {},
   "outputs": [
    {
     "data": {
      "image/png": "[encoded data removed]",
      "text/plain": [
       "<matplotlib.figure.Figure at 0x113f170b8>"
      ]
     },
     "metadata": {},
     "output_type": "display_data"
    }
   ],
   "source": [
    "fig, axs = plt.subplots(1,5,gridspec_kw =  dict(wspace=0.5), figsize=(15,5))\n",
    "fig.subplots_adjust(wspace=1)\n",
    "#fig.suptitle('New title here')\n",
    "\n",
    "fig.texts = [] #flush the old super titles\n",
    "axs[0].get_figure().suptitle(\"\")\n",
    "#plt.suptitle('Some title')\n",
    "\n",
    "axs[0].set_ylabel('Years spent living')\n",
    "axs[1].set_ylabel('Years of education')\n",
    "axs[2].set_ylabel('Real earnings in 1974')\n",
    "axs[3].set_ylabel('Real earnings in 1975')\n",
    "axs[4].set_ylabel('Real earnings in 1978')\n",
    "\n",
    "data_matched.boxplot(column='age',  by='Treatment', ax=axs[0],grid = False, showfliers=True, showmeans=True)\n",
    "data_matched.boxplot(column='educ', by='Treatment', ax=axs[1],grid = False, showfliers=True, showmeans=True)\n",
    "data_matched.boxplot(column='re74',  by='Treatment', ax=axs[2],grid = False, showfliers=True, showmeans=True)\n",
    "data_matched.boxplot(column='re75', by='Treatment', ax=axs[3],grid = False, showfliers=True, showmeans=True)\n",
    "data_matched.boxplot(column='re78', by='Treatment', ax=axs[4],grid = False, showfliers=True, showmeans=True)\n",
    "plt.show()"
   ]
  },
  {
   "cell_type": "code",
   "execution_count": 26,
   "metadata": {},
   "outputs": [
    {
     "data": {
      "image/png": "[encoded data removed]",
      "text/plain": [
       "<matplotlib.figure.Figure at 0x1121e1fd0>"
      ]
     },
     "metadata": {},
     "output_type": "display_data"
    }
   ],
   "source": [
    "fig, axs = plt.subplots(1,3,gridspec_kw =  dict(wspace=0.4), figsize=(15,5))\n",
    "fig.subplots_adjust(wspace=1)\n",
    "#fig.suptitle('New title here')\n",
    "\n",
    "fig.texts = [] #flush the old super titles\n",
    "axs[0].get_figure().suptitle(\"\")\n",
    "#plt.suptitle('Some title')\n",
    "\n",
    "\n",
    "axs[0].set_ylabel('Real earnings in 1974')\n",
    "axs[1].set_ylabel('Real earnings in 1975')\n",
    "axs[2].set_ylabel('Real earnings in 1978')\n",
    "\n",
    "\n",
    "\n",
    "dataset.boxplot(column='re74',  by=['white','black','hispan'], ax=axs[0],grid = False, showfliers=False, showmeans=True)\n",
    "dataset.boxplot(column='re75', by=['white','black','hispan'], ax=axs[1],grid = False, showfliers=False, showmeans=True)\n",
    "dataset.boxplot(column='re78', by=['white','black','hispan'], ax=axs[2],grid = False, showfliers=False, showmeans=True)\n",
    "plt.show()"
   ]
  },
  {
   "cell_type": "code",
   "execution_count": 27,
   "metadata": {},
   "outputs": [],
   "source": [
    "whiteDf = dataset.loc[dataset['white'] == 1]\n",
    "whiteDf = whiteDf.reset_index(drop=True)\n",
    "\n",
    "blackDf = dataset.loc[dataset['black'] == 1]\n",
    "blackDf = dataset.reset_index(drop=True)\n",
    "\n",
    "hispanDf = dataset.loc[dataset['hispan'] == 1]\n",
    "hispanDf = hispanDf.reset_index(drop=True)"
   ]
  },
  {
   "cell_type": "markdown",
   "metadata": {},
   "source": [
    "White people matching "
   ]
  },
  {
   "cell_type": "code",
   "execution_count": 39,
   "metadata": {},
   "outputs": [],
   "source": [
    "whitePropScore = propensityScoreDf(whiteDf)\n",
    "MatchingW, a1, a2 = matchingPeople(whitePropScore)\n",
    "white_matched = whiteDf.loc[list(a1)+list(a2)]"
   ]
  },
  {
   "cell_type": "markdown",
   "metadata": {},
   "source": [
    "Black people matching "
   ]
  },
  {
   "cell_type": "code",
   "execution_count": 50,
   "metadata": {},
   "outputs": [
    {
     "name": "stdout",
     "output_type": "stream",
     "text": [
      "18\n",
      "281\n"
     ]
    }
   ],
   "source": [
    "blackPropScore = propensityScoreDf(blackDf)\n",
    "MatchingB, a1, a2 = matchingPeople(whitePropScore)\n",
    "black_matched = blackDf.loc[list(a1)+list(a2)]"
   ]
  },
  {
   "cell_type": "code",
   "execution_count": null,
   "metadata": {},
   "outputs": [],
   "source": []
  },
  {
   "cell_type": "code",
   "execution_count": 47,
   "metadata": {},
   "outputs": [
    {
     "data": {
      "image/png": "[encoded data removed]",
      "text/plain": [
       "<matplotlib.figure.Figure at 0x111ec4908>"
      ]
     },
     "metadata": {},
     "output_type": "display_data"
    }
   ],
   "source": [
    "DataFrameBoxPlots(white_matched)"
   ]
  },
  {
   "cell_type": "code",
   "execution_count": null,
   "metadata": {},
   "outputs": [],
   "source": []
  },
  {
   "cell_type": "markdown",
   "metadata": {},
   "source": [
    "#### 5. Balancing the groups further"
   ]
  },
  {
   "cell_type": "code",
   "execution_count": null,
   "metadata": {},
   "outputs": [],
   "source": []
  },
  {
   "cell_type": "markdown",
   "metadata": {},
   "source": [
    "#### 6. A less naive analysis"
   ]
  },
  {
   "cell_type": "code",
   "execution_count": null,
   "metadata": {},
   "outputs": [],
   "source": []
  },
  {
   "cell_type": "markdown",
   "metadata": {},
   "source": [
    "## Question 2: Applied ML"
   ]
  },
  {
   "cell_type": "code",
   "execution_count": null,
   "metadata": {},
   "outputs": [],
   "source": []
  }
 ],
 "metadata": {
  "kernelspec": {
   "display_name": "Python 3",
   "language": "python",
   "name": "python3"
  },
  "language_info": {
   "codemirror_mode": {
    "name": "ipython",
    "version": 3
   },
   "file_extension": ".py",
   "mimetype": "text/x-python",
   "name": "python",
   "nbconvert_exporter": "python",
   "pygments_lexer": "ipython3",
   "version": "3.6.1"
  }
 },
 "nbformat": 4,
 "nbformat_minor": 2
}
