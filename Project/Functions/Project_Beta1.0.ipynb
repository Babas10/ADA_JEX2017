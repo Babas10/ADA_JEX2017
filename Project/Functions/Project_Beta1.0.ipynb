{
 "cells": [
  {
   "cell_type": "code",
   "execution_count": null,
   "metadata": {
    "collapsed": true
   },
   "outputs": [],
   "source": [
    "import pandas as pd\n",
    "import re\n",
    "import sys\n",
    "import numpy as np\n",
    "import nltk\n",
    "from nltk.corpus import wordnet as wn\n",
    "from nltk import pos_tag\n",
    "from nltk.tag import UnigramTagger\n",
    "from nltk.corpus import brown\n",
    "import webcolors\n",
    "sys.path.append(\"..\")\n",
    "from ADA_JEX2017.Project.Functions.str_functions import *\n",
    "from ADA_JEX2017.Project.Functions.pre_process import *\n"
   ]
  },
  {
   "cell_type": "code",
   "execution_count": null,
   "metadata": {
    "collapsed": true
   },
   "outputs": [],
   "source": [
    "path='../ADA_JEX2017/Project/Functions/'"
   ]
  },
  {
   "cell_type": "code",
   "execution_count": null,
   "metadata": {
    "collapsed": true
   },
   "outputs": [],
   "source": [
    "#our datafile exported to csv\n",
    "data_file='./recipeInfo/recipeInfo_WestWhiteHorvitz_WWW2013.csv'\n",
    "raw_data = pd.read_csv(data_file ,sep=';')"
   ]
  },
  {
   "cell_type": "code",
   "execution_count": null,
   "metadata": {
    "collapsed": true
   },
   "outputs": [],
   "source": [
    "with open(path+'units_list.txt', 'r') as f:\n",
    "    units_list = [line.rstrip('\\n') for line in f]\n",
    "    \n",
    "with open(path+'technique_list.txt', 'r') as f:\n",
    "    techniques_list = [line.rstrip('\\n') for line in f]\n",
    "\n",
    "with open(path+'ingredient_list.txt', 'r') as f:\n",
    "    ingredient_list = [line.rstrip('\\n') for line in f]\n",
    "    \n",
    "lemmatizer = WordNetLemmatizer()\n",
    "ingredient_list=[lemmatizer.lemmatize(token).lower() for token in ingredient_list]"
   ]
  },
  {
   "cell_type": "code",
   "execution_count": null,
   "metadata": {},
   "outputs": [],
   "source": [
    "ingr_dataframe=raw_data[['title','ingredients_list','ingredients_bag-of-words']].copy().dropna()\n",
    "ingr_dataframe = ingr_dataframe.reset_index(drop=True)\n",
    "display(ingr_dataframe.head())\n",
    "ingr_data_reduced=ingr_dataframe.head(100)\n",
    "#we ignore upper case in the ingredients string\n",
    "ingr_dataframe['ingredients_list']=ingr_dataframe['ingredients_list'].str.lower()"
   ]
  },
  {
   "cell_type": "code",
   "execution_count": null,
   "metadata": {},
   "outputs": [],
   "source": [
    "fun_add_preprocess(ingr_dataframe,units_list)"
   ]
  },
  {
   "cell_type": "code",
   "execution_count": null,
   "metadata": {
    "scrolled": true
   },
   "outputs": [],
   "source": [
    "#-----test cell : test a specific receipe -------------\n",
    "receipe=ingr_data_reduced.loc[0]['Recipe_preporcess']\n",
    "print(receipe)\n",
    "dic_ingr,dictec,wasted,wasted_numb=fun_extract_ingredients\\\n",
    "    (receipe,ingredient_list,techniques_list,units_list,to_gram=True)"
   ]
  },
  {
   "cell_type": "code",
   "execution_count": null,
   "metadata": {},
   "outputs": [],
   "source": [
    "#----- calculate whole data frame ---------\n",
    "ingr_data_reduced=ingr_dataframe.head(100)\n",
    "all_dic=[]\n",
    "not_used_ingr=[]\n",
    "wastes=0\n",
    "for index, row in ingr_dataframe.iterrows():\n",
    "    recipe=row['Recipe_preporcess']\n",
    "    dic_ingre,dictec,wasted_ingr,wasted_number=fun_extract_ingredients\\\n",
    "            (recipe,ingredient_list,techniques_list,units_list,to_gram=True)\n",
    "    all_dic.append(dic_ingre)\n",
    "    not_used_ingr.append(wasted_ingr)\n",
    "    wastes=wastes+wasted_number"
   ]
  },
  {
   "cell_type": "code",
   "execution_count": null,
   "metadata": {},
   "outputs": [],
   "source": [
    "# --- actually create the dataframe\n",
    "ingredients_frame=pd.DataFrame(data=all_dic)\n",
    "display(ingredients_frame.head(5))"
   ]
  },
  {
   "cell_type": "code",
   "execution_count": null,
   "metadata": {},
   "outputs": [],
   "source": [
    "sum((ingredients_frame==0).sum(axis=1))"
   ]
  },
  {
   "cell_type": "code",
   "execution_count": null,
   "metadata": {},
   "outputs": [],
   "source": [
    "print('There are : ',len(list(ingredients_frame)), 'ingredients')\n",
    "ingred_used={}\n",
    "for i in list(ingredients_frame):\n",
    "    ingred_used[i]=sum(ingredients_frame[i].value_counts())"
   ]
  },
  {
   "cell_type": "code",
   "execution_count": null,
   "metadata": {},
   "outputs": [],
   "source": [
    "occu=sorted((value,key) for (key,value) in ingred_used.items())\n",
    "occu[::-1]"
   ]
  },
  {
   "cell_type": "code",
   "execution_count": null,
   "metadata": {
    "collapsed": true
   },
   "outputs": [],
   "source": []
  }
 ],
 "metadata": {
  "kernelspec": {
   "display_name": "Python [conda root]",
   "language": "python",
   "name": "conda-root-py"
  },
  "language_info": {
   "codemirror_mode": {
    "name": "ipython",
    "version": 3
   },
   "file_extension": ".py",
   "mimetype": "text/x-python",
   "name": "python",
   "nbconvert_exporter": "python",
   "pygments_lexer": "ipython3",
   "version": "3.6.3"
  }
 },
 "nbformat": 4,
 "nbformat_minor": 2
}
