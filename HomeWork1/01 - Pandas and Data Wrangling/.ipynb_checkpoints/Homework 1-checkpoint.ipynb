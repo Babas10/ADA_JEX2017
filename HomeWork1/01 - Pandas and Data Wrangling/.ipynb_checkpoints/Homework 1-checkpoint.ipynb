{
 "cells": [
  {
   "cell_type": "markdown",
   "metadata": {},
   "source": [
    "# Table of Contents\n",
    " <p><div class=\"lev1\"><a href=\"#Task-1.-Compiling-Ebola-Data\"><span class=\"toc-item-num\">Task 1.&nbsp;&nbsp;</span>Compiling Ebola Data</a></div>\n",
    " <div class=\"lev1\"><a href=\"#Task-2.-RNA-Sequences\"><span class=\"toc-item-num\">Task 2.&nbsp;&nbsp;</span>RNA Sequences</a></div>\n",
    " <div class=\"lev1\"><a href=\"#Task-3.-Class-War-in-Titanic\"><span class=\"toc-item-num\">Task 3.&nbsp;&nbsp;</span>Class War in Titanic</a></div></p>"
   ]
  },
  {
   "cell_type": "code",
   "execution_count": null,
   "metadata": {
    "collapsed": true
   },
   "outputs": [],
   "source": [
    "DATA_FOLDER = '../../Data' # Use the data folder provided in Tutorial 02 - Intro to Pandas."
   ]
  },
  {
   "cell_type": "markdown",
   "metadata": {},
   "source": [
    "## Task 1. Compiling Ebola Data\n",
    "\n",
    "The `DATA_FOLDER/ebola` folder contains summarized reports of Ebola cases from three countries (Guinea, Liberia and Sierra Leone) during the recent outbreak of the disease in West Africa. For each country, there are daily reports that contain various information about the outbreak in several cities in each country.\n",
    "\n",
    "Use pandas to import these data files into a single `Dataframe`.\n",
    "Using this `DataFrame`, calculate for *each country*, the *daily average* per year of *new cases* and *deaths*.\n",
    "Make sure you handle all the different expressions for *new cases* and *deaths* that are used in the reports."
   ]
  },
  {
   "cell_type": "code",
   "execution_count": null,
   "metadata": {
    "collapsed": true
   },
   "outputs": [],
   "source": [
    "# Write your answer here\n",
    "#first We need to import the data as a dataframe of course it means importing pandas\n",
    "#create a unique dataframe with country:date::"
   ]
  },
  {
   "cell_type": "code",
   "execution_count": null,
   "metadata": {
    "collapsed": true
   },
   "outputs": [],
   "source": [
    "import pandas as pd\n",
    "import numpy as np\n",
    "from IPython.display import display\n",
    "import glob\n",
    "import matplotlib.pyplot as plt\n",
    "import datetime\n",
    "from dateutil.parser import parse"
   ]
  },
  {
   "cell_type": "code",
   "execution_count": null,
   "metadata": {
    "collapsed": true
   },
   "outputs": [],
   "source": [
    "##Create a column with name of the country in the beginning of the frame\n",
    "def add_pays(data_frame, pays):\n",
    "    data_frame.loc[:,'Pays'] = pd.Series(pays, index=data_frame.index)\n",
    "    cols = list(data_frame)\n",
    "    cols.insert(0, cols.pop(cols.index('Pays')))\n",
    "    data_frame = data_frame.loc[:, cols]\n",
    "    return data_frame\n",
    "\n",
    "#import the csv files of one country and put them in one frame\n",
    "def create_oneframe(pays):\n",
    "    allFiles = glob.glob(DATA_FOLDER + \"/ebola/%s_data/*.csv\"%pays)\n",
    "    list_ = []\n",
    "    frame=pd.DataFrame()\n",
    "    for file_ in allFiles:\n",
    "        df = pd.read_csv(file_)\n",
    "        if not frame.empty:\n",
    "            frame = pd.merge(frame, df, how='outer')\n",
    "        else :\n",
    "            frame = df\n",
    "    return frame"
   ]
  },
  {
   "cell_type": "code",
   "execution_count": null,
   "metadata": {},
   "outputs": [],
   "source": [
    "pays1='guinea'\n",
    "pays2='liberia'\n",
    "pays3='sl'   #Sierra Leone\n",
    "\n",
    "##créer une colonne total pour les pays qui ont en pas guinea:Totals, liberia:National\n",
    "\n",
    "guinea=add_pays(create_oneframe(pays1),(pays1))\n",
    "liberia=add_pays(create_oneframe(pays2),(pays2))\n",
    "sl=add_pays(create_oneframe(pays3),(pays3))\n",
    "display(liberia)"
   ]
  },
  {
   "cell_type": "code",
   "execution_count": null,
   "metadata": {},
   "outputs": [],
   "source": [
    "all_country=pd.DataFrame()\n",
    "all_country=pd.merge(sl,guinea,how='outer')\n",
    "all_country=pd.merge(all_country,liberia,how='outer')\n",
    "\n",
    "#all_country=all_country.fillna('')\n",
    "all_country[\"Description\"] = all_country[\"Description\"].fillna('').map(str) + all_country[\"Variable\"].fillna('').map(str)+all_country[\"variable\"].fillna('').map(str)\n",
    "all_country[\"Date\"] = all_country[\"Date\"].fillna('').map(str) + all_country[\"date\"].fillna('').map(str)\n",
    "all_country['National']=all_country['National'].fillna('').map(str)+all_country['Totals'].fillna('').map(str)\n",
    "\n",
    "#TODO: search for missing values in National: if empty sum following columns\n",
    "\n",
    "#or delete those rows \n",
    "Natio_empty=np.where((all_country.National==''))[0]\n",
    "all_country.drop(all_country.index[Natio_empty],inplace=True)\n",
    "\n",
    "\n",
    "cols = list(all_country)\n",
    "cols.pop(cols.index('Variable'))\n",
    "cols.pop(cols.index('variable'))\n",
    "cols.pop(cols.index('date'))\n",
    "cols.pop(cols.index('Totals'))\n",
    "cols.insert(1, cols.pop(cols.index('Date')))\n",
    "cols.insert(2, cols.pop(cols.index('Description')))\n",
    "cols.insert(3, cols.pop(cols.index('National')))\n",
    "all_country = all_country.loc[:, cols]\n"
   ]
  },
  {
   "cell_type": "code",
   "execution_count": null,
   "metadata": {},
   "outputs": [],
   "source": [
    "countries=['guinea','liberia','sl']\n",
    "death_dict={}\n",
    "newcase_dict={}\n",
    "\n",
    "for country in countries:\n",
    "\n",
    "    one_country=all_country[all_country.Pays.str.startswith(country)]\n",
    "\n",
    "    #frame with only rows of new cases confirmed:\n",
    "    country_new=one_country[one_country.Description.str.contains('New',case=False)& (one_country.Description.str.contains('confirmed'))\\\n",
    "                             &(~one_country.Description.str.contains('Death',case=False))&(~one_country.Description.str.contains('workers',case=False))]\n",
    "    #display(country_new)\n",
    "    #average over the columns\n",
    "    #news cases confirmed daily average over the year\n",
    "    newcase_dict[country]=(country_new.National.astype(float).mean())\n",
    "    #frame with only rows of death cases confirmed:\n",
    "    country_death=one_country[one_country.Description.str.contains('deaths',case=False) & ~(one_country.Description.str.contains('HCW'))\\\n",
    "                             &(one_country.Description.str.contains('new',case=False)) &~(one_country.Description.str.contains('proba'))\\\n",
    "                             &~(one_country.Description.str.contains('workers'))&~(one_country.Description.str.contains('confirmed'))]\n",
    "    \n",
    "    #display(country_death)\n",
    "    #daily death average over year :\n",
    "    death_dict[country]=(country_death.National.astype(float).mean())\n",
    "    \n",
    "    \n",
    "    ###plot of the new cases:\n",
    "    date=country_death.Date.tolist()\n",
    "    date=[parse(x) for x in date]\n",
    "    newcase=country_new.National.astype(float).tolist()\n",
    "    date, newcase = zip(*sorted(zip(date, newcase)))\n",
    "\n",
    "    plt.plot(newcase)\n",
    "    plt.title(country)\n",
    "    plt.xlabel('Days')\n",
    "    plt.ylabel('New cases')\n",
    "    plt.show()\n",
    "    \n",
    "    \n",
    "    ###plot of the death everyday (in increasing date)\n",
    "    date=country_death.Date.tolist()\n",
    "    date=[parse(x) for x in date]\n",
    "    death=country_death.National.astype(float).tolist()\n",
    "    date, death = zip(*sorted(zip(date, death)))\n",
    "    \n",
    "    plt.plot(death)\n",
    "    plt.title(country)\n",
    "    plt.xlabel('Days')\n",
    "    plt.ylabel('New Deaths')\n",
    "    plt.show()\n",
    "    \n",
    "\n",
    "    \n",
    "##TO DO : get the average death(daily) per year\n",
    "## and get the daily number of death to plot: newcases and death /daily for the year\n",
    "\n",
    "print('New cases average:%s'%newcase_dict)\n",
    "print('death average:%s'%death_dict)\n",
    "\n",
    "\n",
    "\n",
    "\n"
   ]
  },
  {
   "cell_type": "code",
   "execution_count": null,
   "metadata": {
    "collapsed": true
   },
   "outputs": [],
   "source": [
    "##sl : death : etc_new_deaths   // death_confirmed\n",
    "##lib : death: Newly reported deaths   // Total death/s in confirmed cases\n",
    "##guin: death: New deaths registered  // Total deaths of confirmed\n",
    "\n",
    "##sl : death : etc_new_deaths   // death_confirmed\n",
    "##lib : death: Newly reported deaths   // Total death/s in confirmed cases\n",
    "##guin: death: New deaths registered  // Total deaths of confirmed"
   ]
  },
  {
   "cell_type": "markdown",
   "metadata": {},
   "source": [
    "## Task 2. RNA Sequences\n",
    "\n",
    "In the `DATA_FOLDER/microbiome` subdirectory, there are 9 spreadsheets of microbiome data that was acquired from high-throughput RNA sequencing procedures, along with a 10<sup>th</sup> file that describes the content of each. \n",
    "\n",
    "Use pandas to import the first 9 spreadsheets into a single `DataFrame`.\n",
    "Then, add the metadata information from the 10<sup>th</sup> spreadsheet as columns in the combined `DataFrame`.\n",
    "Make sure that the final `DataFrame` has a unique index and all the `NaN` values have been replaced by the tag `unknown`."
   ]
  },
  {
   "cell_type": "code",
   "execution_count": null,
   "metadata": {
    "collapsed": true
   },
   "outputs": [],
   "source": [
    "# Write your answer here"
   ]
  },
  {
   "cell_type": "markdown",
   "metadata": {},
   "source": [
    "## Task 3. Class War in Titanic\n",
    "\n",
    "Use pandas to import the data file `Data/titanic.xls`. It contains data on all the passengers that travelled on the Titanic."
   ]
  },
  {
   "cell_type": "code",
   "execution_count": null,
   "metadata": {
    "collapsed": true
   },
   "outputs": [],
   "source": [
    "from IPython.core.display import HTML\n",
    "HTML(filename=DATA_FOLDER+'/titanic.html')"
   ]
  },
  {
   "cell_type": "markdown",
   "metadata": {},
   "source": [
    "For each of the following questions state clearly your assumptions and discuss your findings:\n",
    "1. Describe the *type* and the *value range* of each attribute. Indicate and transform the attributes that can be `Categorical`. \n",
    "2. Plot histograms for the *travel class*, *embarkation port*, *sex* and *age* attributes. For the latter one, use *discrete decade intervals*. \n",
    "3. Calculate the proportion of passengers by *cabin floor*. Present your results in a *pie chart*.\n",
    "4. For each *travel class*, calculate the proportion of the passengers that survived. Present your results in *pie charts*.\n",
    "5. Calculate the proportion of the passengers that survived by *travel class* and *sex*. Present your results in *a single histogram*.\n",
    "6. Create 2 equally populated *age categories* and calculate survival proportions by *age category*, *travel class* and *sex*. Present your results in a `DataFrame` with unique index."
   ]
  },
  {
   "cell_type": "code",
   "execution_count": null,
   "metadata": {
    "collapsed": true
   },
   "outputs": [],
   "source": [
    "# Write your answer here"
   ]
  }
 ],
 "metadata": {
  "kernelspec": {
   "display_name": "Python [conda root]",
   "language": "python",
   "name": "conda-root-py"
  },
  "language_info": {
   "codemirror_mode": {
    "name": "ipython",
    "version": 3
   },
   "file_extension": ".py",
   "mimetype": "text/x-python",
   "name": "python",
   "nbconvert_exporter": "python",
   "pygments_lexer": "ipython3",
   "version": "3.6.1"
  }
 },
 "nbformat": 4,
 "nbformat_minor": 2
}
